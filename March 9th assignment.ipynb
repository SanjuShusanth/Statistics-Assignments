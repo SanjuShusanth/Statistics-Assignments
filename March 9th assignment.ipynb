{
 "cells": [
  {
   "cell_type": "markdown",
   "id": "bea94c99",
   "metadata": {},
   "source": [
    "#### Q1: What are the Probability Mass Function (PMF) and Probability Density Function (PDF)? Explain with an example."
   ]
  },
  {
   "cell_type": "markdown",
   "id": "e817e53c",
   "metadata": {},
   "source": [
    "#### Probability Mass Function:\n",
    "\n",
    "* Probability Mass Function is distribution of Discrete random variable, where the values are distributed in a finite numbers.\n",
    "\n",
    "Eg: Rolling a dice \n",
    "\n",
    "#### Probability Density Function:\n",
    "\n",
    "* Probability Density Function is a distribution of continous random variable, where the values are distributed in decimal or fractional numbers.\n",
    "\n",
    "Eg: Height of the person."
   ]
  },
  {
   "cell_type": "code",
   "execution_count": null,
   "id": "b1e6c3b3",
   "metadata": {},
   "outputs": [],
   "source": []
  },
  {
   "cell_type": "markdown",
   "id": "23f56e02",
   "metadata": {},
   "source": [
    "#### Q2: What is Cumulative Density Function (CDF)? Explain with an example. Why CDF is used?"
   ]
  },
  {
   "cell_type": "markdown",
   "id": "1d58ca14",
   "metadata": {},
   "source": [
    "Cumulative Density Function that describes the distribution of a random variable, it used to calculate the area under the curve to the left from the point of interest. It is used to evaluate the accumulated probability.\n",
    "\n",
    "Eg: Rolling a dice. \n",
    "\n",
    "P(X<=x) = 1\n",
    "\n",
    "P(X<=4) = P(x=1) + P(x=2) + P(x=3) + P(x=4) \n",
    "\n",
    "P(X<=4) = 0.666"
   ]
  },
  {
   "cell_type": "code",
   "execution_count": null,
   "id": "1332f56a",
   "metadata": {},
   "outputs": [],
   "source": []
  },
  {
   "cell_type": "markdown",
   "id": "ea70a9ac",
   "metadata": {},
   "source": [
    "#### Q3: What are some examples of situations where the normal distribution might be used as a model? Explain how the parameters of the normal distribution relate to the shape of the distribution."
   ]
  },
  {
   "cell_type": "markdown",
   "id": "b6e399f3",
   "metadata": {},
   "source": [
    "* Normal Distribution is used when the data is distributed equally(Symmentric Distribution)it has the bell curve, which means that data is not positive or negatively skewed, where the relationship of Mean, Median, Mode will be at the centre of the distribution.\n",
    "\n",
    "* Parameters of Normal Distribution are:\n",
    "    * Where Mean = Median = Mode.\n",
    "    * It follows the Emperical Rule or 3 Sigma Rule.\n",
    "    * It says that if the random variable follows the normal distribution, 68% of the data present in the 1st Standard Deviation and 95% of the data present in the 2nd Standard Deviation and 97.7% data present in the 3rd Standard Deviation."
   ]
  },
  {
   "cell_type": "code",
   "execution_count": null,
   "id": "4db947e4",
   "metadata": {},
   "outputs": [],
   "source": []
  },
  {
   "cell_type": "markdown",
   "id": "8d2c5d4f",
   "metadata": {},
   "source": [
    "#### Q4: Explain the importance of Normal Distribution. Give a few real-life examples of Normal Distribution."
   ]
  },
  {
   "cell_type": "markdown",
   "id": "72344aaa",
   "metadata": {},
   "source": [
    "Importance of Normal Distribution:\n",
    "    \n",
    "    * Normal distribution is a very versatile distribution it can be to model different variety of data, including height, weight, IQ scores and test scores.\n",
    "    \n",
    "    * It can be used to make inferences about the population based on sample.\n",
    "   \n",
    "   Eg: If you take a random sample of people height and find the average height is 5 feet tall, we can use normal distribution to infer the average height of people of population is also 5 fet tall."
   ]
  },
  {
   "cell_type": "code",
   "execution_count": null,
   "id": "6d658887",
   "metadata": {},
   "outputs": [],
   "source": []
  },
  {
   "cell_type": "markdown",
   "id": "d32d2a86",
   "metadata": {},
   "source": [
    "#### Q5: What is Bernaulli Distribution? Give an Example. What is the difference between Bernoulli Distribution and Binomial Distribution?"
   ]
  },
  {
   "cell_type": "markdown",
   "id": "c5256966",
   "metadata": {},
   "source": [
    "* Bernaulli's Distribution is represents in Probability Mass Function and it is a disctribution of Discrete random variable.\n",
    "\n",
    "* It has only two possible outcomes either Success or Failure in a single trial\n",
    "\n",
    "Eg: While tossing a coin probability of getting head or tail that is:\n",
    "        P(H) = 0.5; P(T) = 1-P(H)\n",
    "        \n",
    "* Binomial Distribution is a distribution of discrete random variable, in which p always denotes the probability of success in sequence of n independent trails.\n",
    "\n",
    "Eg: Tossing a coin for 10 times\n",
    "\n",
    "* The main difference between Bernoulli and Binomial distributions is that the Bernoulli distribution describes a single trial, while the Binomial distribution describes a sequence of trials."
   ]
  },
  {
   "cell_type": "code",
   "execution_count": null,
   "id": "3ea67d74",
   "metadata": {},
   "outputs": [],
   "source": []
  },
  {
   "cell_type": "markdown",
   "id": "8dd0707d",
   "metadata": {},
   "source": [
    "#### Q6. Consider a dataset with a mean of 50 and a standard deviation of 10. If we assume that the dataset is normally distributed, what is the probability that a randomly selected observation will be greater than 60? Use the appropriate formula and show your calculations."
   ]
  },
  {
   "cell_type": "markdown",
   "id": "169f89b9",
   "metadata": {},
   "source": [
    "Mean = 50\n",
    "\n",
    "Standard Deviation = 10\n",
    "\n",
    "sample_mean = 60\n",
    "\n",
    "Calculating Z score:\n",
    "\n",
    "P(X>60) = 60 - 50/ 10 = 1\n",
    "\n",
    "Z Score: \n",
    "\n",
    "    P(X<60) = 0.8413\n",
    "    P(X>60) = 1- P(X<60) \n",
    "\n",
    "The Area under the curve is P(X>60) = 0.1586 ~ 15.86 %"
   ]
  },
  {
   "cell_type": "code",
   "execution_count": null,
   "id": "44578fe7",
   "metadata": {},
   "outputs": [],
   "source": []
  },
  {
   "cell_type": "markdown",
   "id": "29d011e1",
   "metadata": {},
   "source": [
    "#### Q7: Explain uniform Distribution with an example"
   ]
  },
  {
   "cell_type": "markdown",
   "id": "7338fad5",
   "metadata": {},
   "source": [
    "* Uniform Distribution has a two types they are :\n",
    "    \n",
    "    1. Continous uniform distribution\n",
    "    \n",
    "    2. Discrete uniform Distribution\n",
    "    \n",
    "* Continous Uniform Distribution is also called as Retangular Distribution, it is a symmentrical probability distribution. the distribution describes an experiment where there is an arbitary outcome that lies between the certain bonds.\n",
    "\n",
    "Eg: Number of biscuits sold at a shop is uniformly distributed with minimum of 10 and maximum of 30.\n",
    "\n",
    "\n",
    "* Discrete Uniform Distribution it has a finite number of values are equal liked to be observed. theare will be a equal probability.\n",
    "\n",
    "Eg: Rolling a dice"
   ]
  },
  {
   "cell_type": "code",
   "execution_count": null,
   "id": "96ff02a6",
   "metadata": {},
   "outputs": [],
   "source": []
  },
  {
   "cell_type": "markdown",
   "id": "db9a56f8",
   "metadata": {},
   "source": [
    "#### Q8: What is the z score? State the importance of the z score."
   ]
  },
  {
   "cell_type": "markdown",
   "id": "94499f71",
   "metadata": {},
   "source": [
    "* Z score means that number of standard deviation value which is away from the mean, it can be both positive and negative.\n",
    "\n",
    "Importance of Z Score:\n",
    "\n",
    "* It is a standardized measure, which means that it can be compared accross different features, this is important because the each feature has different scales. The z score performs the standardization where all the feature can be compared in commom scale."
   ]
  },
  {
   "cell_type": "code",
   "execution_count": null,
   "id": "e4083730",
   "metadata": {},
   "outputs": [],
   "source": []
  },
  {
   "cell_type": "markdown",
   "id": "faac5d7f",
   "metadata": {},
   "source": [
    "#### Q9: What is Central Limit Theorem? State the significance of the Central Limit Theorem."
   ]
  },
  {
   "cell_type": "markdown",
   "id": "8f90cb7c",
   "metadata": {},
   "source": [
    "* Central limit theorem is a concept of sampling distribution, which is the probability distribution of a statistics for a large number of sample taken from the population.\n",
    "\n",
    "* Central limit theorem also stated that the sampling distribution of the mean will always be normally distributed as long as the sample size is large enough. Regardless of whether the population has normal, poisson, binomial or other distribution, the sampling distribution of the mean will be normal.\n",
    "\n",
    "Signicance of Central Limit theorem:\n",
    "\n",
    "* If the Random variable X follows the Normal or gausian distribution then the `n` can be any value, the sampling distribution of the mean will always be normal.\n",
    "\n",
    "* If the Random variable X Not follows the Normal or Gausian distribution then the n should be n>=30, the sampling distribution of the mean will be normal."
   ]
  },
  {
   "cell_type": "code",
   "execution_count": null,
   "id": "22d09030",
   "metadata": {},
   "outputs": [],
   "source": []
  },
  {
   "cell_type": "markdown",
   "id": "10d90785",
   "metadata": {},
   "source": [
    "#### Q10: State the assumptions of the Central Limit Theorem"
   ]
  },
  {
   "cell_type": "markdown",
   "id": "82552cea",
   "metadata": {},
   "source": [
    "* The data must be sampled randomly from the population.\n",
    "* The samples must be independent of each other.\n",
    "* The population must have a finite mean and variance.\n",
    "* The sample size must be sufficiently large.\n",
    "* The specific requirements for the sample size to be sufficiently large vary depending on the shape of the population distribution. However, in general, a sample size of 30 or more is sufficient for most applications."
   ]
  },
  {
   "cell_type": "code",
   "execution_count": null,
   "id": "812664bc",
   "metadata": {},
   "outputs": [],
   "source": []
  }
 ],
 "metadata": {
  "kernelspec": {
   "display_name": "Python 3 (ipykernel)",
   "language": "python",
   "name": "python3"
  },
  "language_info": {
   "codemirror_mode": {
    "name": "ipython",
    "version": 3
   },
   "file_extension": ".py",
   "mimetype": "text/x-python",
   "name": "python",
   "nbconvert_exporter": "python",
   "pygments_lexer": "ipython3",
   "version": "3.9.13"
  }
 },
 "nbformat": 4,
 "nbformat_minor": 5
}

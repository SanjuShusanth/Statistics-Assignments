{
 "cells": [
  {
   "cell_type": "markdown",
   "id": "db615826",
   "metadata": {},
   "source": [
    "#### Q1. What is Statistics?"
   ]
  },
  {
   "cell_type": "markdown",
   "id": "369a2920",
   "metadata": {},
   "source": [
    "* Statistics is Mathematical function which involves in collecting, organiszing and analysising the data.\n",
    "\n",
    "* With the help of statistics we can identify the trends and patterns and so helps to find the outliers in the data \n",
    "\n",
    "* It used to interpret the data to draw the conclusion for the findings"
   ]
  },
  {
   "cell_type": "code",
   "execution_count": null,
   "id": "eb004ed2",
   "metadata": {},
   "outputs": [],
   "source": []
  },
  {
   "cell_type": "markdown",
   "id": "552e379d",
   "metadata": {},
   "source": [
    "#### Q2. Define the different types of statistics and give an example of when each type might be used."
   ]
  },
  {
   "cell_type": "markdown",
   "id": "1fc7fc06",
   "metadata": {},
   "source": [
    "Types of Statistics:\n",
    "    \n",
    "1. Descriptive Statistics \n",
    "2. Inferential Statistics\n",
    "\n",
    "* Descriptive Statistics involves numberical measures that summarize and describe the data. By using Measure of central tendency we can find the average salary of people, Highest and lowest salary of the people.\n",
    "\n",
    "Eg: It is used to find out the sales data of a company. Like average sales, most central values in sales data etc.\n",
    "\n",
    "* Inferential Statistics that deals with making inferences or finding the conclusion of the population data from the sample data.\n",
    "\n",
    "Eg: In this we are able to draw the conslusion by analysing the particular sample of the data from the large data."
   ]
  },
  {
   "cell_type": "code",
   "execution_count": null,
   "id": "9f7f9019",
   "metadata": {},
   "outputs": [],
   "source": []
  },
  {
   "cell_type": "markdown",
   "id": "c16f54e5",
   "metadata": {},
   "source": [
    "#### Q3.  What are the different types of data and how do they differ from each other? Provide an example of each type of data."
   ]
  },
  {
   "cell_type": "markdown",
   "id": "07dee240",
   "metadata": {},
   "source": [
    "* Data can be classified into two types they are:\n",
    "\n",
    "1. Quantitative Data - Discrete and Continous data\n",
    "\n",
    "2. Qualitative Data - Nominal and Ordinal data\n",
    "\n",
    "Discrete Data:\n",
    "\n",
    "* Discrete Data is numerical data which has whole number or fixed values. It only contains finite values.\n",
    "\n",
    "Eg: No. of pages in the Books, No. of tickets sold etc.\n",
    "\n",
    "* Continous Data is both finite and infinite values, they can possess decimal or fraction values.\n",
    "\n",
    "Eg: Height of a person, Weight of a box, Temperture etc\n",
    "\n",
    "* Nominal Data are the categorical variables they can cannot be ordered or ranked them. also we cannot perform any arithmetic operation with them. \n",
    "\n",
    "Eg: Zip code, Gender, Blood group etc\n",
    "\n",
    "* Ordinal Data are naturally ranked data.\n",
    "\n",
    "Eg: Education level, survey responce level, age of people."
   ]
  },
  {
   "cell_type": "code",
   "execution_count": null,
   "id": "e25992ca",
   "metadata": {},
   "outputs": [],
   "source": []
  },
  {
   "cell_type": "markdown",
   "id": "e84138ae",
   "metadata": {},
   "source": [
    "Q4. Categorise the following datasets with respect to quantitative and qualitative data types:\n",
    "\n",
    "(i)\tGrading in exam: A+, A, B+, B, C+, C, D, E\n",
    "\n",
    "(ii)\tColour of mangoes: yellow, green, orange, red\n",
    "\n",
    "(iii)\tHeight data of a class: [178.9, 179, 179.5, 176, 177.2, 178.3, 175.8,...]\n",
    "\n",
    "(iv)\tNumber of mangoes exported by a farm: [500, 600, 478, 672, …]"
   ]
  },
  {
   "cell_type": "markdown",
   "id": "ea35f2b6",
   "metadata": {},
   "source": [
    "Ans\n",
    "\n",
    "1. It comes under the Qualitative data type in which it has the natural ranking (ordinal data)\n",
    "\n",
    "2. It comes under the Qualitative data type in which it has the categorical variables (Nominal data)\n",
    "\n",
    "3. It comes under the Quantitative data type in which it has the decimal values (continous data)\n",
    "\n",
    "4. It comes under the Quantitative data type in which it possess the finite numberical values (Discrete data)"
   ]
  },
  {
   "cell_type": "code",
   "execution_count": null,
   "id": "1f28b31d",
   "metadata": {},
   "outputs": [],
   "source": []
  },
  {
   "cell_type": "markdown",
   "id": "c651a7ef",
   "metadata": {},
   "source": [
    "#### Q5. Explain the concept of levels of measurement and give an example of a variable for each level."
   ]
  },
  {
   "cell_type": "markdown",
   "id": "3e0b6aa8",
   "metadata": {},
   "source": [
    "There are 4 types of levels of Measurement\n",
    "\n",
    "1. Nominal : The data can only be categorised. Eg: Gender, Marital status\n",
    "\n",
    "2. Ordinal : The data can be ranked and categorised. Eg: Grading in exam.\n",
    "    \n",
    "3. Interval : The data can be categorised ranked and evenly spaced. Eg: Number of Mangoes exported by a farm\n",
    "\n",
    "4. Ratio : The data can be categorised, ranked, evenly spaced and has the true zero. Eg: Height, weight, Temperature etc."
   ]
  },
  {
   "cell_type": "code",
   "execution_count": null,
   "id": "24b4a804",
   "metadata": {},
   "outputs": [],
   "source": []
  },
  {
   "cell_type": "markdown",
   "id": "24d00bae",
   "metadata": {},
   "source": [
    "#### Q6. Why is it important to understand the level of measurement when analyzing data? Provide an mexample to illustrate your answer."
   ]
  },
  {
   "cell_type": "markdown",
   "id": "cc18f41d",
   "metadata": {},
   "source": [
    "* It is important to understand the level of measurement inorder to differntiatiate the data. \n",
    "\n",
    "* At times we need to calculate or perform some arithemetic functions or analysising the each data.\n",
    "\n",
    "For Eg: We have a data set which contains all level of measurement they asking to calculate the mean of the particular data.\n",
    "    \n",
    "Here we need to understand the each variable or categories in the data to perform the function. We cannot perfom mean for the categorical data.\n",
    "Mean is applicable only to the numberical data."
   ]
  },
  {
   "cell_type": "code",
   "execution_count": null,
   "id": "7dcac729",
   "metadata": {},
   "outputs": [],
   "source": []
  },
  {
   "cell_type": "markdown",
   "id": "86bf7a34",
   "metadata": {},
   "source": [
    "#### Q7. How nominal data type is different from ordinal data type."
   ]
  },
  {
   "cell_type": "markdown",
   "id": "4b7c67cf",
   "metadata": {},
   "source": [
    "* Nominal data and Ordinal data are categorical data but nominal data cannot be ranked but whereas ordinal data is predetermined and has natural ranking."
   ]
  },
  {
   "cell_type": "code",
   "execution_count": null,
   "id": "96e1d8d4",
   "metadata": {},
   "outputs": [],
   "source": []
  },
  {
   "cell_type": "markdown",
   "id": "2188d3a1",
   "metadata": {},
   "source": [
    "#### Q8. Which type of plot can be used to display data in terms of range?"
   ]
  },
  {
   "cell_type": "markdown",
   "id": "17fad13a",
   "metadata": {},
   "source": [
    "* We can use Box plot to represent the data in terms of range because it has the finite values means discrete data. So it is better to display the discrete data in box plot to represent the different quartiles, median, Minimum and maximum values."
   ]
  },
  {
   "cell_type": "code",
   "execution_count": null,
   "id": "3585a580",
   "metadata": {},
   "outputs": [],
   "source": []
  },
  {
   "cell_type": "markdown",
   "id": "a2040ed6",
   "metadata": {},
   "source": [
    "#### Q9. Describe the difference between descriptive and inferential statistics. Give an example of each type of statistics and explain how they are used."
   ]
  },
  {
   "cell_type": "markdown",
   "id": "2e015c63",
   "metadata": {},
   "source": [
    "* Descriptive statistics are measures to summarise and describe the data. By using Measures of central tendancy we can calculate the statistical functions of a population data.\n",
    "\n",
    "Eg: Finding the average, frequency of sales in the year 2023.\n",
    "\n",
    "* Inferential statistics is used to find out the inferences in sample data from the entire data, to draw a conclusion for the entire data from the sample data.\n",
    "\n",
    "Eg: By randomly selecting the samples 11th grade students public scores and estimating their scores and test hypothysis for entire 11th grade of a particular state."
   ]
  },
  {
   "cell_type": "code",
   "execution_count": null,
   "id": "52919032",
   "metadata": {},
   "outputs": [],
   "source": []
  },
  {
   "cell_type": "markdown",
   "id": "aec4d26c",
   "metadata": {},
   "source": [
    "#### Q10. What are some common measures of central tendency and variability used in statistics? Explain how each measure can be used to describe a dataset."
   ]
  },
  {
   "cell_type": "markdown",
   "id": "3b92943b",
   "metadata": {},
   "source": [
    "* Some of the common Measure of Central Tendency are:\n",
    "\n",
    "1. Mean - It is used to calculate the average of the Numberical variable in the dataset\n",
    "\n",
    "2. Median - It is used to find the central value of the dataset\n",
    "\n",
    "3. Mode - It is measure of  No. of occurance in dataset."
   ]
  },
  {
   "cell_type": "code",
   "execution_count": null,
   "id": "a3ff5d05",
   "metadata": {},
   "outputs": [],
   "source": []
  }
 ],
 "metadata": {
  "kernelspec": {
   "display_name": "Python 3 (ipykernel)",
   "language": "python",
   "name": "python3"
  },
  "language_info": {
   "codemirror_mode": {
    "name": "ipython",
    "version": 3
   },
   "file_extension": ".py",
   "mimetype": "text/x-python",
   "name": "python",
   "nbconvert_exporter": "python",
   "pygments_lexer": "ipython3",
   "version": "3.9.13"
  }
 },
 "nbformat": 4,
 "nbformat_minor": 5
}

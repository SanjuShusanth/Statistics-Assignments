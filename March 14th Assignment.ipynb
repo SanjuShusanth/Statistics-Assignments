{
 "cells": [
  {
   "cell_type": "code",
   "execution_count": null,
   "id": "b1fd31da",
   "metadata": {},
   "outputs": [],
   "source": []
  },
  {
   "cell_type": "markdown",
   "id": "5935b067",
   "metadata": {},
   "source": [
    "#### Q1. Write a Python function that takes in two arrays of data and calculates the F-value for a variance ratio test. The function should return the F-value and the corresponding p-value for the test."
   ]
  },
  {
   "cell_type": "code",
   "execution_count": 13,
   "id": "1cc8cd16",
   "metadata": {},
   "outputs": [],
   "source": [
    "import numpy as np    "
   ]
  },
  {
   "cell_type": "code",
   "execution_count": 28,
   "id": "2c646eb7",
   "metadata": {},
   "outputs": [],
   "source": [
    "def Ftest(A, B):\n",
    "    \n",
    "    Sample_A = np.array(A)\n",
    "    \n",
    "    Sample_B = np.array(B)\n",
    "    \n",
    "    ftest = np.var(Sample_A)/np.var(Sample_B)\n",
    "    \n",
    "    dfn = len(Sample_A) -1\n",
    "    \n",
    "    dfd = len(Sample_B) - 1\n",
    "    \n",
    "    Pvalue = 1- (st.f.cdf(ftest, dfn, dfd))\n",
    "    \n",
    "    return f'Ftest {ftest} and Pvalue {Pvalue}'"
   ]
  },
  {
   "cell_type": "code",
   "execution_count": 29,
   "id": "9c413cbd",
   "metadata": {},
   "outputs": [
    {
     "data": {
      "text/plain": [
       "'Ftest 4.387122002085506 and Pvalue 0.01912653593238578'"
      ]
     },
     "execution_count": 29,
     "metadata": {},
     "output_type": "execute_result"
    }
   ],
   "source": [
    "Ftest(A=[18, 19, 22, 25, 27, 28, 41, 45, 51, 55], B=[14, 15, 15, 17, 18, 22, 25, 25, 27, 34])"
   ]
  },
  {
   "cell_type": "code",
   "execution_count": null,
   "id": "4f3f64e3",
   "metadata": {},
   "outputs": [],
   "source": []
  },
  {
   "cell_type": "markdown",
   "id": "c9113710",
   "metadata": {},
   "source": [
    "#### Q2. Given a significance level of 0.05 and the degrees of freedom for the numerator and denominator of an F-distribution, write a Python function that returns the critical F-value for a two-tailed test"
   ]
  },
  {
   "cell_type": "code",
   "execution_count": 3,
   "id": "9f149445",
   "metadata": {},
   "outputs": [],
   "source": [
    "import scipy.stats as st"
   ]
  },
  {
   "cell_type": "code",
   "execution_count": 9,
   "id": "2672b760",
   "metadata": {},
   "outputs": [],
   "source": [
    "def Critical_value(alpha, dfn, dfd):\n",
    "    \n",
    "    critical_value = st.f.ppf(1-alpha/2, dfn, dfd)\n",
    "    \n",
    "    return critical_value"
   ]
  },
  {
   "cell_type": "code",
   "execution_count": 12,
   "id": "e005ba41",
   "metadata": {},
   "outputs": [
    {
     "data": {
      "text/plain": [
       "7.25985568006018"
      ]
     },
     "execution_count": 12,
     "metadata": {},
     "output_type": "execute_result"
    }
   ],
   "source": [
    "Critical_value(0.05, 2,6)"
   ]
  },
  {
   "cell_type": "code",
   "execution_count": null,
   "id": "1615fb6e",
   "metadata": {},
   "outputs": [],
   "source": []
  },
  {
   "cell_type": "markdown",
   "id": "d5bba963",
   "metadata": {},
   "source": [
    "#### Q3. Write a Python program that generates random samples from two normal distributions with known variances and uses an F-test to determine if the variances are equal. The program should output the F\u0002value, degrees of freedom, and p-value for the test.\n"
   ]
  },
  {
   "cell_type": "code",
   "execution_count": 35,
   "id": "2fa66f8a",
   "metadata": {},
   "outputs": [],
   "source": [
    "def F_test1(A, B):\n",
    "    \n",
    "    Sample_x = np.random.normal(loc=10, scale=5, size=(2,2))\n",
    "    \n",
    "    Sample_y = np.random.normal(loc=8, scale = 4, size = (2,2))\n",
    "\n",
    "    Sample_xVar = np.var(Sample_x)\n",
    "\n",
    "    Sample_yVar = np.var(Sample_y)\n",
    "    \n",
    "    f_value = Sample_xVar/Sample_yVar\n",
    "\n",
    "    dfn = len(Sample_x) - 1\n",
    "    \n",
    "    dfd = len(Sample_y) - 1\n",
    "    \n",
    "    Pvalue = 1-(st.f.cdf(f_value, dfn, dfd))\n",
    "    \n",
    "    return f_value, dfn, dfd, Pvalue"
   ]
  },
  {
   "cell_type": "code",
   "execution_count": 36,
   "id": "96d6703d",
   "metadata": {},
   "outputs": [
    {
     "data": {
      "text/plain": [
       "(1.8370499648427827, 1, 1, 0.40466623061585594)"
      ]
     },
     "execution_count": 36,
     "metadata": {},
     "output_type": "execute_result"
    }
   ],
   "source": [
    "F_test1(A= Sample_x, B=Sample_y)"
   ]
  },
  {
   "cell_type": "code",
   "execution_count": null,
   "id": "11620740",
   "metadata": {},
   "outputs": [],
   "source": []
  },
  {
   "cell_type": "markdown",
   "id": "e6adf9df",
   "metadata": {},
   "source": [
    "#### Q4.The variances of two populations are known to be 10 and 15. A sample of 12 observations is taken from each population. Conduct an F-test at the 5% significance level to determine if the variances are significantly different."
   ]
  },
  {
   "cell_type": "code",
   "execution_count": 7,
   "id": "2ac7cd67",
   "metadata": {},
   "outputs": [],
   "source": [
    "def Ftest2(A_var, B_var, sample_size):\n",
    "    \n",
    "    dfn = sample_size - 1\n",
    "    \n",
    "    dfd = sample_size - 1\n",
    "    \n",
    "    significance_level = 0.05\n",
    "    \n",
    "    f_value = A_var/B_var\n",
    "    \n",
    "    CV = st.f.ppf(1-significance_level/2, dfn, dfd)\n",
    "    \n",
    "    Pvalue = 1 - (st.f.cdf(f_value, dfn, dfd))\n",
    "    \n",
    "    if Pvalue < significance_level:\n",
    "        print('Reject the Null hypothesis')\n",
    "    else:\n",
    "        print('Failed to reject  the null Hypothesis')\n",
    "        \n",
    "    return f_value, Pvalue"
   ]
  },
  {
   "cell_type": "code",
   "execution_count": 8,
   "id": "c04b7e53",
   "metadata": {},
   "outputs": [
    {
     "name": "stdout",
     "output_type": "stream",
     "text": [
      "Failed to reject  the null Hypothesis\n"
     ]
    },
    {
     "data": {
      "text/plain": [
       "(0.6666666666666666, 0.7438051006321)"
      ]
     },
     "execution_count": 8,
     "metadata": {},
     "output_type": "execute_result"
    }
   ],
   "source": [
    "Ftest2(A_var=10, B_var=15, sample_size=12)"
   ]
  },
  {
   "cell_type": "code",
   "execution_count": null,
   "id": "c832553b",
   "metadata": {},
   "outputs": [],
   "source": []
  },
  {
   "cell_type": "markdown",
   "id": "c7f19cd9",
   "metadata": {},
   "source": [
    "#### Q5. A manufacturer claims that the variance of the diameter of a certain product is 0.005. A sample of 25 products is taken, and the sample variance is found to be 0.006. Conduct an F-test at the 1% significance level to determine if the claim is justified"
   ]
  },
  {
   "cell_type": "markdown",
   "id": "077a0c13",
   "metadata": {},
   "source": [
    "Hypothesis Testing:\n",
    "    \n",
    "    Null Hypothesis(H0) : The manufacturer claims that the variance of  the diameter of a product 0.005\n",
    "        \n",
    "    Alternate Hypothesis (H1): The Manufacturer found that the sample vairance of the diameter of a product > 0.005\n",
    "    \n",
    "    * It is a one tail test, as the sample variance is increasing."
   ]
  },
  {
   "cell_type": "code",
   "execution_count": 10,
   "id": "4b08cea5",
   "metadata": {},
   "outputs": [],
   "source": [
    "def Hypothesis_testing(pro_var, sam_var, sam_size):\n",
    "    \n",
    "    f_ratio = sam_var/pro_var\n",
    "    \n",
    "    dfn = sam_size - 1\n",
    "    \n",
    "    dfd = sam_size -1\n",
    "    \n",
    "    alpha = 1- 0.99\n",
    "    \n",
    "    cv = st.f.ppf(1-alpha, dfn, dfd)\n",
    "    \n",
    "    pvalue = 1- (st.f.cdf(f_ratio, dfn, dfd))\n",
    "    \n",
    "    if pvalue < alpha:\n",
    "        print('Reject the Null hypothesis')\n",
    "    else:\n",
    "        print('Failed to reject  the null Hypothesis')\n",
    "        \n",
    "        return f_ratio, pvalue, cv"
   ]
  },
  {
   "cell_type": "code",
   "execution_count": 11,
   "id": "7415d253",
   "metadata": {},
   "outputs": [
    {
     "name": "stdout",
     "output_type": "stream",
     "text": [
      "Failed to reject  the null Hypothesis\n"
     ]
    },
    {
     "data": {
      "text/plain": [
       "(1.2, 0.3293654682817244, 2.6590721043481556)"
      ]
     },
     "execution_count": 11,
     "metadata": {},
     "output_type": "execute_result"
    }
   ],
   "source": [
    "Hypothesis_testing(0.005,0.006,25)"
   ]
  },
  {
   "cell_type": "code",
   "execution_count": null,
   "id": "43735e7f",
   "metadata": {},
   "outputs": [],
   "source": []
  },
  {
   "cell_type": "markdown",
   "id": "d2bc2a2c",
   "metadata": {},
   "source": [
    "#### Q6. Write a Python function that takes in the degrees of freedom for the numerator and denominator of an F-distribution and calculates the mean and variance of the distribution. The function should return the mean and variance as a tuple."
   ]
  },
  {
   "cell_type": "code",
   "execution_count": 25,
   "id": "da61d4f6",
   "metadata": {},
   "outputs": [
    {
     "name": "stdout",
     "output_type": "stream",
     "text": [
      "(-1.0, -1.2533333333333334)\n"
     ]
    }
   ],
   "source": [
    "def Fdistribution(dfn , dfd):\n",
    "    \n",
    "    mean = dfd/dfd-2\n",
    "    \n",
    "    variance = (2-(dfd)**2) * (dfn + dfd -2)/(dfn*(dfd-2)**2 * (dfd-4))\n",
    "    \n",
    "    return mean, variance\n",
    "\n",
    "end = Fdistribution(5,7)\n",
    "print(end)"
   ]
  },
  {
   "cell_type": "code",
   "execution_count": null,
   "id": "40ff6036",
   "metadata": {},
   "outputs": [],
   "source": []
  },
  {
   "cell_type": "markdown",
   "id": "a97ad643",
   "metadata": {},
   "source": [
    "#### Q7. A random sample of 10 measurements is taken from a normal population with unknown variance. The sample variance is found to be 25. Another random sample of 15 measurements is taken from another normal population with unknown variance, and the sample variance is found to be 20. Conduct an F-test at the 10% significance level to determine if the variances are significantly different."
   ]
  },
  {
   "cell_type": "markdown",
   "id": "0e00eaeb",
   "metadata": {},
   "source": [
    "Hypothesis Testing:\n",
    "    \n",
    "    Null Hypothesis (H0): There is no difference in the variances.\n",
    "        \n",
    "    Alternate Hypothesis (H1) : There is a significant differences in the variance."
   ]
  },
  {
   "cell_type": "code",
   "execution_count": 29,
   "id": "ac94ea21",
   "metadata": {},
   "outputs": [],
   "source": [
    "def Test(s1_size, s1_var,s2_size, s2_var, alpha):\n",
    "    \n",
    "    f_test = s1_var/s2_var\n",
    "    \n",
    "    dfn = s1_size - 1\n",
    "    \n",
    "    dfd = s2_size - 2\n",
    "    \n",
    "    cv = st.f.ppf(alpha/2,dfn,dfd)\n",
    "    \n",
    "    pvalue = 1-(st.f.cdf(f_test, dfn, dfd))\n",
    "    \n",
    "    if pvalue < alpha:\n",
    "        print('Reject the Null Hypothesis')\n",
    "    else:\n",
    "        print('Failed to Reject the Null Hypothesis')\n",
    "        \n",
    "    return pvalue, f_test"
   ]
  },
  {
   "cell_type": "code",
   "execution_count": 30,
   "id": "f7f32f57",
   "metadata": {},
   "outputs": [
    {
     "name": "stdout",
     "output_type": "stream",
     "text": [
      "Failed to Reject the Null Hypothesis\n"
     ]
    },
    {
     "data": {
      "text/plain": [
       "(0.3463280303210313, 1.25)"
      ]
     },
     "execution_count": 30,
     "metadata": {},
     "output_type": "execute_result"
    }
   ],
   "source": [
    "Test(10,25,15,20, 0.10)"
   ]
  },
  {
   "cell_type": "code",
   "execution_count": null,
   "id": "07cbbd5b",
   "metadata": {},
   "outputs": [],
   "source": []
  },
  {
   "cell_type": "markdown",
   "id": "e9ef84bb",
   "metadata": {},
   "source": [
    "#### Q8. The following data represent the waiting times in minutes at two different restaurants on a Saturday night: Restaurant A: 24, 25, 28, 23, 22, 20, 27; Restaurant B: 31, 33, 35, 30, 32, 36. Conduct an F-test at the 5% significance level to determine if the variances are significantly different."
   ]
  },
  {
   "cell_type": "code",
   "execution_count": 35,
   "id": "5ba1c22c",
   "metadata": {},
   "outputs": [],
   "source": [
    "import numpy as np"
   ]
  },
  {
   "cell_type": "code",
   "execution_count": 36,
   "id": "c1be4c52",
   "metadata": {},
   "outputs": [],
   "source": [
    "Restaurent_A = [24, 25, 28, 23, 22, 20, 27]\n",
    "Restaurent_B = [31, 33, 35, 30, 32, 36]"
   ]
  },
  {
   "cell_type": "code",
   "execution_count": 37,
   "id": "342b18a1",
   "metadata": {},
   "outputs": [],
   "source": [
    "def Ftest(a, b, alpha):\n",
    "    \n",
    "    f_ratio = np.var(a)/np.var(b)\n",
    "    \n",
    "    dfn = len(a) - 1\n",
    "    \n",
    "    dfd = len(b) - 1\n",
    "    \n",
    "    cv = st.f.ppf(alpha/2, dfn, dfd)\n",
    "    \n",
    "    pvalue = 1- (st.f.cdf(f_ratio, dfn, dfd))\n",
    "    \n",
    "    if pvalue < alpha:\n",
    "        print('Reject the Null Hypothesis')\n",
    "    else:\n",
    "        print('Failed to reject the Null Hypothesis')\n",
    "        \n",
    "    return pvalue, f_ratio"
   ]
  },
  {
   "cell_type": "code",
   "execution_count": 38,
   "id": "48f9d836",
   "metadata": {},
   "outputs": [
    {
     "name": "stdout",
     "output_type": "stream",
     "text": [
      "Failed to reject the Null Hypothesis\n"
     ]
    },
    {
     "data": {
      "text/plain": [
       "(0.3374133569640825, 1.496767651159843)"
      ]
     },
     "execution_count": 38,
     "metadata": {},
     "output_type": "execute_result"
    }
   ],
   "source": [
    "Ftest(a=Restaurent_A, b=Restaurent_B, alpha=0.05)"
   ]
  },
  {
   "cell_type": "markdown",
   "id": "72a0212f",
   "metadata": {},
   "source": [
    "Conclusion: There is no significant differences in their variance."
   ]
  },
  {
   "cell_type": "code",
   "execution_count": null,
   "id": "0b04d688",
   "metadata": {},
   "outputs": [],
   "source": []
  },
  {
   "cell_type": "markdown",
   "id": "2a98c7c0",
   "metadata": {},
   "source": [
    "#### Q9. The following data represent the test scores of two groups of students: Group A: 80, 85, 90, 92, 87, 83; Group B: 75, 78, 82, 79, 81, 84. Conduct an F-test at the 1% significance level to determine if the variances are significantly different."
   ]
  },
  {
   "cell_type": "code",
   "execution_count": 40,
   "id": "d100254c",
   "metadata": {},
   "outputs": [],
   "source": [
    "Group_a = [80, 85, 90, 92, 87, 83]\n",
    "\n",
    "Group_B = [75, 78, 82, 79, 81, 84]"
   ]
  },
  {
   "cell_type": "code",
   "execution_count": 41,
   "id": "a7d25137",
   "metadata": {},
   "outputs": [],
   "source": [
    "def F_Test(a, b, alpha):\n",
    "    \n",
    "    f_ratio = np.var(a)/np.var(b)\n",
    "    \n",
    "    dfn = len(a) - 1\n",
    "    \n",
    "    dfd = len(b) - 1\n",
    "    \n",
    "    cv = st.f.ppf(alpha/2, dfn, dfd)\n",
    "    \n",
    "    pvalue = 1- (st.f.cdf(f_ratio, dfn, dfd))\n",
    "    \n",
    "    if pvalue < alpha:\n",
    "        print('Reject the Null Hypothesis')\n",
    "    else:\n",
    "        print('Failed to reject the Null Hypothesis')\n",
    "        \n",
    "    return pvalue, f_ratio"
   ]
  },
  {
   "cell_type": "code",
   "execution_count": 42,
   "id": "e90b6402",
   "metadata": {},
   "outputs": [
    {
     "name": "stdout",
     "output_type": "stream",
     "text": [
      "Failed to reject the Null Hypothesis\n"
     ]
    },
    {
     "data": {
      "text/plain": [
       "(0.2415521774535344, 1.9442622950819677)"
      ]
     },
     "execution_count": 42,
     "metadata": {},
     "output_type": "execute_result"
    }
   ],
   "source": [
    "Ftest(a= Group_a, b=Group_B, alpha= 0.01)"
   ]
  },
  {
   "cell_type": "code",
   "execution_count": null,
   "id": "c66d2216",
   "metadata": {},
   "outputs": [],
   "source": []
  }
 ],
 "metadata": {
  "kernelspec": {
   "display_name": "Python 3 (ipykernel)",
   "language": "python",
   "name": "python3"
  },
  "language_info": {
   "codemirror_mode": {
    "name": "ipython",
    "version": 3
   },
   "file_extension": ".py",
   "mimetype": "text/x-python",
   "name": "python",
   "nbconvert_exporter": "python",
   "pygments_lexer": "ipython3",
   "version": "3.9.13"
  }
 },
 "nbformat": 4,
 "nbformat_minor": 5
}

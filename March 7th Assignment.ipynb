{
 "cells": [
  {
   "cell_type": "markdown",
   "id": "4581295e",
   "metadata": {},
   "source": [
    "#### Q1. What are the three measures of central tendency?"
   ]
  },
  {
   "cell_type": "markdown",
   "id": "8fdfd7ff",
   "metadata": {},
   "source": [
    "* The Three Measures of Central tendency are:\n",
    "\n",
    "    1. Mean - Average Value\n",
    "    2. Median - Centeral Value\n",
    "    3. Mode - No. of occurance or Frequency"
   ]
  },
  {
   "cell_type": "markdown",
   "id": "d1877653",
   "metadata": {},
   "source": [
    "#### Q2. What is the difference between the mean, median, and mode? How are they used to measure the central tendency of a dataset?"
   ]
  },
  {
   "cell_type": "markdown",
   "id": "10977651",
   "metadata": {},
   "source": [
    "* Mean - It is a statictical function that is used to find the average value of the particular dataset.\n",
    "\n",
    "Eg: Say we have the sales dataset of company yearwise, we need to calculate the average sales of a particular year of the dataset. Here Mean function is used to find the average value.\n",
    "    \n",
    "* Median - It is also statistical function that is used to find the central value or Mid value of a dataset.\n",
    "\n",
    "Eg: In the same sales dataset, we need to find the exact central sales value, Here median is used.\n",
    "    \n",
    "* Mode - Again it is statistical function that is used to find the no. of occurance or Frequency in dataset.\n",
    "\n",
    "Eg: In sales dataset, we can find the frequency of the sales or repeated value by using mode"
   ]
  },
  {
   "cell_type": "code",
   "execution_count": null,
   "id": "69ab50d9",
   "metadata": {},
   "outputs": [],
   "source": []
  },
  {
   "cell_type": "markdown",
   "id": "237835e1",
   "metadata": {},
   "source": [
    "#### Q3. Measure the three measures of central tendency for the given height data:"
   ]
  },
  {
   "cell_type": "code",
   "execution_count": 1,
   "id": "7e6ce123",
   "metadata": {},
   "outputs": [],
   "source": [
    "Height = [178,177,176,177,178.2,178,175,179,180,175,178.9,176.2,177,172.5,178,176.5]"
   ]
  },
  {
   "cell_type": "code",
   "execution_count": 2,
   "id": "a7718593",
   "metadata": {},
   "outputs": [],
   "source": [
    "import numpy as np"
   ]
  },
  {
   "cell_type": "code",
   "execution_count": 3,
   "id": "5ed07dbe",
   "metadata": {},
   "outputs": [
    {
     "data": {
      "text/plain": [
       "177.01875"
      ]
     },
     "execution_count": 3,
     "metadata": {},
     "output_type": "execute_result"
    }
   ],
   "source": [
    "np.mean(Height)"
   ]
  },
  {
   "cell_type": "code",
   "execution_count": 4,
   "id": "9a81bfed",
   "metadata": {},
   "outputs": [
    {
     "data": {
      "text/plain": [
       "177.0"
      ]
     },
     "execution_count": 4,
     "metadata": {},
     "output_type": "execute_result"
    }
   ],
   "source": [
    "np.median(Height)"
   ]
  },
  {
   "cell_type": "code",
   "execution_count": 5,
   "id": "ac6e34ec",
   "metadata": {},
   "outputs": [],
   "source": [
    "import statistics as st"
   ]
  },
  {
   "cell_type": "code",
   "execution_count": 6,
   "id": "1c51f305",
   "metadata": {},
   "outputs": [
    {
     "data": {
      "text/plain": [
       "178"
      ]
     },
     "execution_count": 6,
     "metadata": {},
     "output_type": "execute_result"
    }
   ],
   "source": [
    "st.mode(Height)"
   ]
  },
  {
   "cell_type": "code",
   "execution_count": null,
   "id": "32763238",
   "metadata": {},
   "outputs": [],
   "source": []
  },
  {
   "cell_type": "markdown",
   "id": "e68f6376",
   "metadata": {},
   "source": [
    "#### Q4. Find the standard deviation for the given data:"
   ]
  },
  {
   "cell_type": "code",
   "execution_count": 7,
   "id": "b0350d30",
   "metadata": {},
   "outputs": [
    {
     "data": {
      "text/plain": [
       "1.7885814036548633"
      ]
     },
     "execution_count": 7,
     "metadata": {},
     "output_type": "execute_result"
    }
   ],
   "source": [
    "np.std(Height)"
   ]
  },
  {
   "cell_type": "code",
   "execution_count": 8,
   "id": "e0a10a22",
   "metadata": {},
   "outputs": [
    {
     "data": {
      "text/plain": [
       "3.199023437500001"
      ]
     },
     "execution_count": 8,
     "metadata": {},
     "output_type": "execute_result"
    }
   ],
   "source": [
    "np.var(Height)"
   ]
  },
  {
   "cell_type": "code",
   "execution_count": null,
   "id": "3046faad",
   "metadata": {},
   "outputs": [],
   "source": []
  },
  {
   "cell_type": "markdown",
   "id": "44aa1c92",
   "metadata": {},
   "source": [
    "#### Q5. How are measures of dispersion such as range, variance, and standard deviation used to describe the spread of a dataset? Provide an example"
   ]
  },
  {
   "cell_type": "markdown",
   "id": "486f4d73",
   "metadata": {},
   "source": [
    "* Range is the simplest measure of dispersion, it is calculated by subtracting the smallest data point from the largest data point.\n",
    "\n",
    "Eg: [1,2,3,4,5,6] (6-1) = 5\n",
    "    \n",
    "* Variance is also a measure of dispersion, it is calculated by the averaging the squared distance between the each data point and the mean\n",
    "\n",
    "Eg:"
   ]
  },
  {
   "cell_type": "code",
   "execution_count": 19,
   "id": "c846d4d8",
   "metadata": {},
   "outputs": [
    {
     "name": "stdout",
     "output_type": "stream",
     "text": [
      "2.9166666666666665\n"
     ]
    }
   ],
   "source": [
    "a = [1,2,3,4,5,6]\n",
    "\n",
    "variance = np.var(a)\n",
    "\n",
    "print(variance)"
   ]
  },
  {
   "cell_type": "markdown",
   "id": "8a01e3a0",
   "metadata": {},
   "source": [
    "* Standard Deviation is an another measure of dispersion, it shows how much it has data is dispersed from the mean.\n"
   ]
  },
  {
   "cell_type": "code",
   "execution_count": 29,
   "id": "6a926a7a",
   "metadata": {},
   "outputs": [
    {
     "name": "stdout",
     "output_type": "stream",
     "text": [
      "1.707825127659933\n"
     ]
    }
   ],
   "source": [
    "a = [1,2,3,4,5,6]\n",
    "\n",
    "standard_deviation = np.std(a)\n",
    "\n",
    "print(standard_deviation)"
   ]
  },
  {
   "cell_type": "code",
   "execution_count": null,
   "id": "525f130a",
   "metadata": {},
   "outputs": [],
   "source": []
  },
  {
   "cell_type": "markdown",
   "id": "b1904d6d",
   "metadata": {},
   "source": [
    "#### Q6. What is a Venn diagram?"
   ]
  },
  {
   "cell_type": "markdown",
   "id": "53ce938f",
   "metadata": {},
   "source": [
    "Venn diagram is representation of showing the relationship between the sets. It also used to illustrate the logical relationships like Union, Intersection and difference."
   ]
  },
  {
   "cell_type": "code",
   "execution_count": null,
   "id": "4c1c86a2",
   "metadata": {},
   "outputs": [],
   "source": []
  },
  {
   "cell_type": "markdown",
   "id": "77ba5e12",
   "metadata": {},
   "source": [
    "#### Q7. For the two given sets A = (2,3,4,5,6,7) & B = (0,2,6,8,10). Find:"
   ]
  },
  {
   "cell_type": "code",
   "execution_count": 32,
   "id": "c3cd578a",
   "metadata": {},
   "outputs": [
    {
     "name": "stdout",
     "output_type": "stream",
     "text": [
      "{2, 6}\n",
      "{0, 2, 3, 4, 5, 6, 7, 8, 10}\n"
     ]
    }
   ],
   "source": [
    "a = {2,3,4,5,6,7}\n",
    "\n",
    "b = {0,2,6,8,10}\n",
    "\n",
    "Intersection = a.intersection(b)\n",
    "\n",
    "Union = a.union(b)\n",
    "\n",
    "print(Intersection)\n",
    "\n",
    "print(Union)"
   ]
  },
  {
   "cell_type": "code",
   "execution_count": null,
   "id": "7ca3288d",
   "metadata": {},
   "outputs": [],
   "source": []
  },
  {
   "cell_type": "markdown",
   "id": "86d66f53",
   "metadata": {},
   "source": [
    "#### Q8. What do you understand about skewness in data?"
   ]
  },
  {
   "cell_type": "markdown",
   "id": "3d11d695",
   "metadata": {},
   "source": [
    "Skewness in data means that, relationship of mean median mode that is used to find the skewness of a data.\n",
    "\n",
    "If the mean, median, mode has the same values then it called a Symentrical Distribution, where there is No skewness.\n",
    "\n",
    "If it is Positively skewed then the most number of data points lies in the right side of the data, where Mean is greater than Median and Mode.\n",
    "\n",
    "If it is Negatively skewed then the most number of data points lies in the left side of the data, when mean is less than Median and Mode."
   ]
  },
  {
   "cell_type": "code",
   "execution_count": null,
   "id": "d5319c8e",
   "metadata": {},
   "outputs": [],
   "source": []
  },
  {
   "cell_type": "markdown",
   "id": "d294573a",
   "metadata": {},
   "source": [
    "#### Q9. If a data is right skewed then what will be the position of median with respect to mean?"
   ]
  },
  {
   "cell_type": "markdown",
   "id": "cd3b7a90",
   "metadata": {},
   "source": [
    "Right skewed is also called as Positively skewed. In this Median will be in the left of mean."
   ]
  },
  {
   "cell_type": "code",
   "execution_count": null,
   "id": "9615f55f",
   "metadata": {},
   "outputs": [],
   "source": []
  },
  {
   "cell_type": "markdown",
   "id": "9d4e42c2",
   "metadata": {},
   "source": [
    "#### Q10. Explain the difference between covariance and correlation. How are these measures used in statistical analysis?"
   ]
  },
  {
   "cell_type": "markdown",
   "id": "29e90d00",
   "metadata": {},
   "source": [
    "Covariance -  It is a directional realtionship between the two random variable. A positive covariance indicates that the two variable tend to move in a same direction. while Negative covariance indicated that the two variable move in the opposite direction.\n",
    "\n",
    "Correlation - It measure the strength of the relationship between two random variable, In correlation the values will be ranging between [-1 to +1]. More value towards +1 the more positively correlated it is, More the value towards -1 the more negatively correlated it is."
   ]
  },
  {
   "cell_type": "code",
   "execution_count": null,
   "id": "ed953d0b",
   "metadata": {},
   "outputs": [],
   "source": []
  },
  {
   "cell_type": "markdown",
   "id": "f97d4fe9",
   "metadata": {},
   "source": [
    "#### Q11. What is the formula for calculating the sample mean? Provide an example calculation for a dataset."
   ]
  },
  {
   "cell_type": "markdown",
   "id": "2a78f7b0",
   "metadata": {},
   "source": [
    "Formula:\n",
    " `sample mean = (Σ x i) / n`\n",
    "\n",
    "sample_mean = (1+2+3+4+5)/5 = 15/5 = 3\n"
   ]
  },
  {
   "cell_type": "code",
   "execution_count": null,
   "id": "d9b4780b",
   "metadata": {},
   "outputs": [],
   "source": []
  },
  {
   "cell_type": "markdown",
   "id": "74fdb9c5",
   "metadata": {},
   "source": [
    "#### Q12. For a normal distribution data what is the relationship between its measure of central tendency?"
   ]
  },
  {
   "cell_type": "markdown",
   "id": "bd0ba739",
   "metadata": {},
   "source": [
    "* For the Normal distribution data the mean, median and mode are equal. They have a symentrical distribution. They are located in the centre of the distribution."
   ]
  },
  {
   "cell_type": "code",
   "execution_count": null,
   "id": "4763ed61",
   "metadata": {},
   "outputs": [],
   "source": []
  },
  {
   "cell_type": "markdown",
   "id": "b537dc8e",
   "metadata": {},
   "source": [
    "#### Q13. How is covariance different from correlation?"
   ]
  },
  {
   "cell_type": "markdown",
   "id": "8212208d",
   "metadata": {},
   "source": [
    "`Covariance` is measure of directional relationship between the two random varaible, here one thing we can observe that we are able to find the relationship either it positive or negative. we cannot find the strength or it doesn't have the specific limit\n",
    "\n",
    "`Correlation` is a measure of strength and directional relationship between the two random variables, Here we are dividing the covariance by standard deviation to find out the strength and directional relationship of the variable."
   ]
  },
  {
   "cell_type": "code",
   "execution_count": null,
   "id": "984b398f",
   "metadata": {},
   "outputs": [],
   "source": []
  },
  {
   "cell_type": "markdown",
   "id": "c420c91c",
   "metadata": {},
   "source": [
    "#### Q14. How do outliers affect measures of central tendency and dispersion? Provide an example"
   ]
  },
  {
   "cell_type": "code",
   "execution_count": 33,
   "id": "493c70b3",
   "metadata": {},
   "outputs": [],
   "source": [
    "Records = {\"Name\":[\"Sanju\", \"Ravi\", \"Rahul\", \"Ajith\", \"Dinesh\"], \"Salary\":[10000,20000,30000,40000,800000]}"
   ]
  },
  {
   "cell_type": "code",
   "execution_count": 35,
   "id": "36969e43",
   "metadata": {},
   "outputs": [
    {
     "data": {
      "text/html": [
       "<div>\n",
       "<style scoped>\n",
       "    .dataframe tbody tr th:only-of-type {\n",
       "        vertical-align: middle;\n",
       "    }\n",
       "\n",
       "    .dataframe tbody tr th {\n",
       "        vertical-align: top;\n",
       "    }\n",
       "\n",
       "    .dataframe thead th {\n",
       "        text-align: right;\n",
       "    }\n",
       "</style>\n",
       "<table border=\"1\" class=\"dataframe\">\n",
       "  <thead>\n",
       "    <tr style=\"text-align: right;\">\n",
       "      <th></th>\n",
       "      <th>Name</th>\n",
       "      <th>Salary</th>\n",
       "    </tr>\n",
       "  </thead>\n",
       "  <tbody>\n",
       "    <tr>\n",
       "      <th>0</th>\n",
       "      <td>Sanju</td>\n",
       "      <td>10000</td>\n",
       "    </tr>\n",
       "    <tr>\n",
       "      <th>1</th>\n",
       "      <td>Ravi</td>\n",
       "      <td>20000</td>\n",
       "    </tr>\n",
       "    <tr>\n",
       "      <th>2</th>\n",
       "      <td>Rahul</td>\n",
       "      <td>30000</td>\n",
       "    </tr>\n",
       "    <tr>\n",
       "      <th>3</th>\n",
       "      <td>Ajith</td>\n",
       "      <td>40000</td>\n",
       "    </tr>\n",
       "    <tr>\n",
       "      <th>4</th>\n",
       "      <td>Dinesh</td>\n",
       "      <td>800000</td>\n",
       "    </tr>\n",
       "  </tbody>\n",
       "</table>\n",
       "</div>"
      ],
      "text/plain": [
       "     Name  Salary\n",
       "0   Sanju   10000\n",
       "1    Ravi   20000\n",
       "2   Rahul   30000\n",
       "3   Ajith   40000\n",
       "4  Dinesh  800000"
      ]
     },
     "execution_count": 35,
     "metadata": {},
     "output_type": "execute_result"
    }
   ],
   "source": [
    "import pandas as pd\n",
    "\n",
    "df = pd.DataFrame(Records)\n",
    "\n",
    "df"
   ]
  },
  {
   "cell_type": "code",
   "execution_count": 37,
   "id": "9807c8bf",
   "metadata": {},
   "outputs": [
    {
     "data": {
      "text/html": [
       "<div>\n",
       "<style scoped>\n",
       "    .dataframe tbody tr th:only-of-type {\n",
       "        vertical-align: middle;\n",
       "    }\n",
       "\n",
       "    .dataframe tbody tr th {\n",
       "        vertical-align: top;\n",
       "    }\n",
       "\n",
       "    .dataframe thead th {\n",
       "        text-align: right;\n",
       "    }\n",
       "</style>\n",
       "<table border=\"1\" class=\"dataframe\">\n",
       "  <thead>\n",
       "    <tr style=\"text-align: right;\">\n",
       "      <th></th>\n",
       "      <th>Salary</th>\n",
       "    </tr>\n",
       "  </thead>\n",
       "  <tbody>\n",
       "    <tr>\n",
       "      <th>count</th>\n",
       "      <td>5.000000</td>\n",
       "    </tr>\n",
       "    <tr>\n",
       "      <th>mean</th>\n",
       "      <td>180000.000000</td>\n",
       "    </tr>\n",
       "    <tr>\n",
       "      <th>std</th>\n",
       "      <td>346770.817688</td>\n",
       "    </tr>\n",
       "    <tr>\n",
       "      <th>min</th>\n",
       "      <td>10000.000000</td>\n",
       "    </tr>\n",
       "    <tr>\n",
       "      <th>25%</th>\n",
       "      <td>20000.000000</td>\n",
       "    </tr>\n",
       "    <tr>\n",
       "      <th>50%</th>\n",
       "      <td>30000.000000</td>\n",
       "    </tr>\n",
       "    <tr>\n",
       "      <th>75%</th>\n",
       "      <td>40000.000000</td>\n",
       "    </tr>\n",
       "    <tr>\n",
       "      <th>max</th>\n",
       "      <td>800000.000000</td>\n",
       "    </tr>\n",
       "  </tbody>\n",
       "</table>\n",
       "</div>"
      ],
      "text/plain": [
       "              Salary\n",
       "count       5.000000\n",
       "mean   180000.000000\n",
       "std    346770.817688\n",
       "min     10000.000000\n",
       "25%     20000.000000\n",
       "50%     30000.000000\n",
       "75%     40000.000000\n",
       "max    800000.000000"
      ]
     },
     "execution_count": 37,
     "metadata": {},
     "output_type": "execute_result"
    }
   ],
   "source": [
    "df.describe()"
   ]
  },
  {
   "cell_type": "markdown",
   "id": "b5cb34c4",
   "metadata": {},
   "source": [
    "* Here is the above example of an outlier in the data, As Dinesh salary is an outlier because his salary goes far outside of average salary in the group.\n",
    "\n",
    "* This is how an outlier is identified. This also effects the central tendancy and Measure of dispersion of the data. "
   ]
  },
  {
   "cell_type": "code",
   "execution_count": 55,
   "id": "a9a192d1",
   "metadata": {},
   "outputs": [
    {
     "data": {
      "text/html": [
       "<div>\n",
       "<style scoped>\n",
       "    .dataframe tbody tr th:only-of-type {\n",
       "        vertical-align: middle;\n",
       "    }\n",
       "\n",
       "    .dataframe tbody tr th {\n",
       "        vertical-align: top;\n",
       "    }\n",
       "\n",
       "    .dataframe thead th {\n",
       "        text-align: right;\n",
       "    }\n",
       "</style>\n",
       "<table border=\"1\" class=\"dataframe\">\n",
       "  <thead>\n",
       "    <tr style=\"text-align: right;\">\n",
       "      <th></th>\n",
       "      <th>Salary</th>\n",
       "    </tr>\n",
       "  </thead>\n",
       "  <tbody>\n",
       "    <tr>\n",
       "      <th>count</th>\n",
       "      <td>4.000000</td>\n",
       "    </tr>\n",
       "    <tr>\n",
       "      <th>mean</th>\n",
       "      <td>25000.000000</td>\n",
       "    </tr>\n",
       "    <tr>\n",
       "      <th>std</th>\n",
       "      <td>12909.944487</td>\n",
       "    </tr>\n",
       "    <tr>\n",
       "      <th>min</th>\n",
       "      <td>10000.000000</td>\n",
       "    </tr>\n",
       "    <tr>\n",
       "      <th>25%</th>\n",
       "      <td>17500.000000</td>\n",
       "    </tr>\n",
       "    <tr>\n",
       "      <th>50%</th>\n",
       "      <td>25000.000000</td>\n",
       "    </tr>\n",
       "    <tr>\n",
       "      <th>75%</th>\n",
       "      <td>32500.000000</td>\n",
       "    </tr>\n",
       "    <tr>\n",
       "      <th>max</th>\n",
       "      <td>40000.000000</td>\n",
       "    </tr>\n",
       "  </tbody>\n",
       "</table>\n",
       "</div>"
      ],
      "text/plain": [
       "             Salary\n",
       "count      4.000000\n",
       "mean   25000.000000\n",
       "std    12909.944487\n",
       "min    10000.000000\n",
       "25%    17500.000000\n",
       "50%    25000.000000\n",
       "75%    32500.000000\n",
       "max    40000.000000"
      ]
     },
     "execution_count": 55,
     "metadata": {},
     "output_type": "execute_result"
    }
   ],
   "source": [
    "New_df = df.drop(4)\n",
    "\n",
    "New_df.describe()"
   ]
  },
  {
   "cell_type": "markdown",
   "id": "c3ff126d",
   "metadata": {},
   "source": [
    "* In the above example, As we have droped the outlier in the data, now the central tendancy and dispertion of the data are stable. Now there is no hindrance.  \n",
    "\n"
   ]
  },
  {
   "cell_type": "code",
   "execution_count": null,
   "id": "fc4a83d7",
   "metadata": {},
   "outputs": [],
   "source": []
  }
 ],
 "metadata": {
  "kernelspec": {
   "display_name": "Python 3 (ipykernel)",
   "language": "python",
   "name": "python3"
  },
  "language_info": {
   "codemirror_mode": {
    "name": "ipython",
    "version": 3
   },
   "file_extension": ".py",
   "mimetype": "text/x-python",
   "name": "python",
   "nbconvert_exporter": "python",
   "pygments_lexer": "ipython3",
   "version": "3.9.13"
  }
 },
 "nbformat": 4,
 "nbformat_minor": 5
}

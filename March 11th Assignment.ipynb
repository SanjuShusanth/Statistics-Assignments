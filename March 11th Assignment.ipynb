{
 "cells": [
  {
   "cell_type": "markdown",
   "id": "6db2e65f",
   "metadata": {},
   "source": [
    "#### Q1: What is the difference between a t-test and a z-test? Provide an example scenario where you would use each type of test."
   ]
  },
  {
   "cell_type": "markdown",
   "id": "51ecc069",
   "metadata": {},
   "source": [
    "Z Test:\n",
    "    \n",
    "    * Ztest usually used performed when we know the Population standard deviation and sample size is greater than 30. It is used to compare the Population means of two groups. \n",
    "    * Z test always follows normal distribution represented in z score.\n",
    "    \n",
    "T Test:\n",
    "    \n",
    "    * Ttest is performed when the sample size is small and Population standard deviation is unknown.\n",
    "    *  T test follows T distribution determined by the degree of Freedom.\n",
    "\n",
    "    "
   ]
  },
  {
   "cell_type": "markdown",
   "id": "aae57445",
   "metadata": {},
   "source": [
    "#### Q2: Differentiate between one-tailed and two-tailed tests."
   ]
  },
  {
   "cell_type": "markdown",
   "id": "20672568",
   "metadata": {},
   "source": [
    "    One tailed test and Two tailed test are determined on the problem statement.\n",
    "\n",
    "       for example: In a class there are 50 students whose avg height of both boys and girls is 164 cm and standard deviation of 3. A teacher who took some samples and calculated their mean is less than 164 cm. Here in this scenario it is a one tail test because the teacher is particular about the mean is reducing and vice versa."
   ]
  },
  {
   "cell_type": "markdown",
   "id": "65407bc4",
   "metadata": {},
   "source": [
    "#### Q3: Explain the concept of Type 1 and Type 2 errors in hypothesis testing. Provide an example scenario for each type of error."
   ]
  },
  {
   "cell_type": "markdown",
   "id": "48792613",
   "metadata": {},
   "source": [
    "    Type 1 error :  Rejecting the Null hypothesis when it is True\n",
    "    \n",
    "    Type 2 error : Accepting the Null hypothesis when it is False\n",
    "    \n",
    "    Example:\n",
    "    \n",
    "     A manufacturing company performs quality tests on its products. The null hypothesis (H0) is that the product meets the required standard, and the alternative hypothesis (H1) is that the product does not meet the standard.\n",
    "    \n",
    "    Type 1 error : If the company rejects a batch of products (rejects H0) when they actually meet the standard.\n",
    "    Type 2 error : If the company fails to reject a batch of products (fails to reject H0) when they do not meet the standard.\n",
    "    \n",
    "    "
   ]
  },
  {
   "cell_type": "markdown",
   "id": "88b6e906",
   "metadata": {},
   "source": [
    "#### Q4:  Explain Bayes's theorem with an example"
   ]
  },
  {
   "cell_type": "markdown",
   "id": "ae545d3a",
   "metadata": {},
   "source": [
    "Baye's Theorem is a fundamental concepts in probability threory and statistics. It describes the probability of an event based on new information of conditions that might be related to the event.\n",
    "\n",
    "Formula:\n",
    "\n",
    "P(A|B) = (P(B|A) * P(A))/P(B)\n",
    "\n",
    "P(A|B) is the conditional probablity of event A given event B has occured.\n",
    "\n",
    "P(B|A) is the conditional probability of event B given event A has occured.\n",
    "\n",
    "P(A) and P(B) are the independent probailities of A and B.\n",
    "\n",
    "Example: \n",
    "\n",
    "A bag I contains 4 white and 6 black balls while another Bag II contains 4 white and 3 black balls. One ball is drawn at random from one of the bags, and it is found to be black. Find the probability that it was drawn from Bag I.\n",
    "\n",
    "P(A| E1) = Probability of drawing a black ball in Bag1  = 6/10 = 3/5\n",
    "\n",
    "P(A| E2) = Probablity of drawing a black ball in Bag2 = 3/7\n",
    "\n",
    "P(E1|A) = P(E1)P(A|E1)/P(E1)P(A|E1) + P(E2)P(A|E2)\n",
    "\n",
    "P(E1|A) = (1/2)(3/5)/(1/2)(3/5) + (1/2)(3/7)\n",
    "\n",
    "P(E1|A) = 7/12"
   ]
  },
  {
   "cell_type": "markdown",
   "id": "a1d5de46",
   "metadata": {},
   "source": [
    "#### Q5: What is a confidence interval? How to calculate the confidence interval, explain with an example."
   ]
  },
  {
   "cell_type": "markdown",
   "id": "6535cdb1",
   "metadata": {},
   "source": [
    "Confidence Interval is a Interval estimate. It is the range of values used to estimate the unknown population parameter.\n",
    "\n",
    "CI = Point Estimate ± Margin of Error.\n",
    "\n",
    "Example:\n",
    "    \n",
    "    For example we have give the sample mean and sample size, sample standard deviation. Objective is to determine the Population mean. We can get the Population Mean by computing the point estimate but it may not be accurate. So we use Interval estimate which tells us the Population mean is present between certain bounds. "
   ]
  },
  {
   "cell_type": "markdown",
   "id": "9807c4bf",
   "metadata": {},
   "source": [
    "#### Q6. Use Bayes' Theorem to calculate the probability of an event occurring given prior knowledge of the event's probability and new evidence. Provide a sample problem and solution."
   ]
  },
  {
   "cell_type": "markdown",
   "id": "e70ca421",
   "metadata": {},
   "source": [
    "Suppose there is a factory that produces light bulbs. The factory has two machines: Machine A and Machine B. Machine A produces 60% of the bulbs, while Machine B produces the remaining 40%. The quality control department tests the bulbs, and their records show that Machine A produces 98% defect-free bulbs, while Machine B produces only 85% defect-free bulbs. Now, a bulb is randomly selected from the production line, and it is found to be defect-free. What is the probability that this bulb came from Machine A?"
   ]
  },
  {
   "cell_type": "markdown",
   "id": "7230beec",
   "metadata": {},
   "source": [
    "A = The bulb is from Machine A\n",
    "B = The bulb is defect - free\n",
    "\n",
    "Objective is to find the probability of event A given the event B using Baye's Theorem\n",
    "\n",
    "P(A) = 0.6\n",
    "P(B|A) = 0.98\n",
    "\n",
    "To calculate the probability of B we need to consider both the machine A and B\n",
    "\n",
    "P(B) = P(B|A)*P(A) + P(B|notA)*P(notA)\n",
    "\n",
    "P(B|not A) = 0.85\n",
    "\n",
    "P(notA)= 1 - P(A)\n",
    "P(notA) = 0.4\n",
    "\n",
    "P(B) = (0.98*0.6)+(0.85*0.4)\n",
    "\n",
    "P(B) = 0.928\n",
    "\n",
    "P(A|B) = (P(B|A) * P(A))/P(B)\n",
    "\n",
    "P(A|B) = 0.98*0.6/0.928\n",
    "\n",
    "P(A|B) ≈  0.633 (63.3%)\n",
    "\n",
    "Probability of that this bulb came from Machine A = 63.3 %"
   ]
  },
  {
   "cell_type": "markdown",
   "id": "12211cdf",
   "metadata": {},
   "source": [
    "#### Q7. Calculate the 95% confidence interval for a sample of data with a mean of 50 and a standard deviation of 5. Interpret the results"
   ]
  },
  {
   "cell_type": "code",
   "execution_count": 4,
   "id": "06eaa594",
   "metadata": {},
   "outputs": [],
   "source": [
    "import scipy.stats as st\n",
    "from scipy.stats import t\n",
    "import numpy as np"
   ]
  },
  {
   "cell_type": "code",
   "execution_count": 16,
   "id": "81d08173",
   "metadata": {},
   "outputs": [],
   "source": [
    "def Confidence_Interval(sample_mean, std, alpha, sample_size):\n",
    "    \n",
    "    ddof = sample_size -1\n",
    "    \n",
    "    Critical_Value = t.ppf(1-alpha, df = ddof)\n",
    "    \n",
    "    Margin_of_error = Critical_Value*(std/np.sqrt(sample_size))\n",
    "    \n",
    "    CI = t.interval(alpha, loc=sample_mean, scale=std, df = ddof)\n",
    "    \n",
    "    return CI"
   ]
  },
  {
   "cell_type": "code",
   "execution_count": 17,
   "id": "2f11059d",
   "metadata": {},
   "outputs": [
    {
     "data": {
      "text/plain": [
       "(49.683741213369885, 50.316258786630115)"
      ]
     },
     "execution_count": 17,
     "metadata": {},
     "output_type": "execute_result"
    }
   ],
   "source": [
    "Confidence_Interval(50, 5,0.05,30 )"
   ]
  },
  {
   "cell_type": "markdown",
   "id": "02756f1b",
   "metadata": {},
   "source": [
    "#### Q8. What is the margin of error in a confidence interval? How does sample size affect the margin of error? Provide an example of a scenario where a larger sample size would result in a smaller margin of error"
   ]
  },
  {
   "cell_type": "markdown",
   "id": "8341813b",
   "metadata": {},
   "source": [
    "* Margin of error in the confidence interval is the measure of uncertainity or range of values arround the point estimate is called as Margin of Error.\n",
    "\n",
    "* Example:\n",
    "    \n",
    "    Sample A:\n",
    "        \n",
    "        * Sample size = 200\n",
    "        * Proportion of Voters supporting the candidate = 0.55\n",
    "        * Margin of error ± 0.06\n",
    "    \n",
    "    Sample B:\n",
    "        \n",
    "        * Sample size = 1000\n",
    "        * Proportion of Voters supporting the candidate = 0.55\n",
    "        * Margin of error ± 0.02\n",
    "        \n",
    "As both the sample has the same amount of proportions of voters supporting the candidate 0.55 and sample B has the larger sample size compared to sample A.\n",
    "\n",
    "So we can conclude that sample B has the smaller margin of error which indicates that the estimate of the proportion of vorters of sample B is more precise."
   ]
  },
  {
   "cell_type": "markdown",
   "id": "b7785b77",
   "metadata": {},
   "source": [
    "#### Q9. Calculate the z-score for a data point with a value of 75, a population mean of 70, and a population standard deviation of 5. Interpret the results"
   ]
  },
  {
   "cell_type": "code",
   "execution_count": 1,
   "id": "63f53572",
   "metadata": {},
   "outputs": [],
   "source": [
    "def Zscore(data_point, pop_mean, pop_std):\n",
    "    \n",
    "    zscore = (data_point - pop_mean)/pop_std\n",
    "    \n",
    "    return zscore"
   ]
  },
  {
   "cell_type": "code",
   "execution_count": 2,
   "id": "7de6afbe",
   "metadata": {},
   "outputs": [
    {
     "data": {
      "text/plain": [
       "1.0"
      ]
     },
     "execution_count": 2,
     "metadata": {},
     "output_type": "execute_result"
    }
   ],
   "source": [
    "Zscore(75,70,5)"
   ]
  },
  {
   "cell_type": "markdown",
   "id": "9b35bc26",
   "metadata": {},
   "source": [
    "#### Q10. In a study of the effectiveness of a new weight loss drug, a sample of 50 participants lost an average of 6 pounds with a standard deviation of 2.5 pounds. Conduct a hypothesis test to determine if the drug is significantly effective at a 95% confidence level using a t-test."
   ]
  },
  {
   "cell_type": "code",
   "execution_count": 8,
   "id": "28415bca",
   "metadata": {},
   "outputs": [],
   "source": [
    "import scipy.stats as st\n",
    "from scipy.stats import t\n",
    "import math"
   ]
  },
  {
   "cell_type": "markdown",
   "id": "77cb40f6",
   "metadata": {},
   "source": [
    "    Solution:\n",
    "    \n",
    "        Hypothesis Testing:\n",
    "    \n",
    "        H0 = There is no significant effectiveness of a new weight loss drug.\n",
    "    \n",
    "        H1 = There is a significant effectiveness of a new weight loss drug."
   ]
  },
  {
   "cell_type": "code",
   "execution_count": 19,
   "id": "3d6c6cf3",
   "metadata": {},
   "outputs": [],
   "source": [
    "def Ttest(sample_size, sample_mean, sample_std, alpha):\n",
    "    \n",
    "    # Calculating degree of freedom\n",
    "    \n",
    "    ddof = sample_size -1\n",
    "    \n",
    "    # Calculating tscore\n",
    "    t_score = (sample_mean - 0)/(sample_std/math.sqrt(sample_size))\n",
    "    \n",
    "    # Calculating pvalue\n",
    "    pvalue = 1- (t.cdf(abs(t_score), ddof))\n",
    "    \n",
    "    # Confidence Interval\n",
    "    \n",
    "    CI = t.interval(alpha, loc = sample_mean, scale = sample_std,df=ddof)\n",
    "    \n",
    "    if pvalue < alpha:\n",
    "        print('Reject the H0')\n",
    "    else:\n",
    "        print('Failed to reject H0')\n",
    "    \n",
    "    return t_score, pvalue, CI"
   ]
  },
  {
   "cell_type": "code",
   "execution_count": 20,
   "id": "6172a992",
   "metadata": {},
   "outputs": [
    {
     "name": "stdout",
     "output_type": "stream",
     "text": [
      "Reject the H0\n"
     ]
    },
    {
     "data": {
      "text/plain": [
       "(16.970562748477143, 0.0, (5.8424280476120884, 6.1575719523879116))"
      ]
     },
     "execution_count": 20,
     "metadata": {},
     "output_type": "execute_result"
    }
   ],
   "source": [
    "Ttest(50,6,2.5,0.05)"
   ]
  },
  {
   "cell_type": "markdown",
   "id": "48791829",
   "metadata": {},
   "source": [
    "    Conclusion:\n",
    "        \n",
    "        We have the evidence that there is no effectiveness in the new drug for weightloss, so we reject the null hypothesis. "
   ]
  },
  {
   "cell_type": "markdown",
   "id": "4d0503b0",
   "metadata": {},
   "source": [
    "#### Q11. In a survey of 500 people, 65% reported being satisfied with their current job. Calculate the 95% confidence interval for the true proportion of people who are satisfied with their job."
   ]
  },
  {
   "cell_type": "code",
   "execution_count": 3,
   "id": "1c1c9a25",
   "metadata": {},
   "outputs": [],
   "source": [
    "import scipy.stats as st"
   ]
  },
  {
   "cell_type": "code",
   "execution_count": 29,
   "id": "b49a77bd",
   "metadata": {},
   "outputs": [],
   "source": [
    "def Con_interval(sample_size, sample_prop, alpha):\n",
    "    \n",
    "    cv = st.norm.ppf(1-alpha/2)\n",
    "    \n",
    "    margin_error = cv*(math.sqrt(sample_prop*(1-sample_prop))/sample_size)\n",
    "    \n",
    "    Lower = sample_prop - margin_error\n",
    "    \n",
    "    Upper = sample_prop + margin_error\n",
    "    \n",
    "    return Lower, Upper"
   ]
  },
  {
   "cell_type": "code",
   "execution_count": 30,
   "id": "e13abd49",
   "metadata": {},
   "outputs": [
    {
     "data": {
      "text/plain": [
       "(0.6481303135217819, 0.6518696864782182)"
      ]
     },
     "execution_count": 30,
     "metadata": {},
     "output_type": "execute_result"
    }
   ],
   "source": [
    "Con_interval(500, 0.65,0.05)"
   ]
  },
  {
   "cell_type": "markdown",
   "id": "44d56a81",
   "metadata": {},
   "source": [
    "#### Q12. A researcher is testing the effectiveness of two different teaching methods on student performance. Sample A has a mean score of 85 with a standard deviation of 6, while sample B has a mean score of 82 with a standard deviation of 5. Conduct a hypothesis test to determine if the two teaching methods have a significant difference in student performance using a t-test with a significance level of 0.01."
   ]
  },
  {
   "cell_type": "code",
   "execution_count": 1,
   "id": "430cd7c0",
   "metadata": {},
   "outputs": [],
   "source": [
    "import numpy as np"
   ]
  },
  {
   "cell_type": "markdown",
   "id": "07fad7e7",
   "metadata": {},
   "source": [
    "Hypothesis Testing:\n",
    "    \n",
    "    H0 = There is no significant difference between the two teaching methods\n",
    "    \n",
    "    H1 = There is a significant difference between the two teaching methods."
   ]
  },
  {
   "cell_type": "code",
   "execution_count": 2,
   "id": "5f9a09e5",
   "metadata": {},
   "outputs": [],
   "source": [
    "x = np.random.normal(loc=85, scale=6, size=25)\n",
    "y = np.random.normal(loc=82, scale = 5, size = 25)"
   ]
  },
  {
   "cell_type": "code",
   "execution_count": 4,
   "id": "38372d2e",
   "metadata": {},
   "outputs": [],
   "source": [
    "def Hypothesis_Testing(x, y, alpha):\n",
    "    \n",
    "    t_statistics, pvalue = st.ttest_ind(x, y)\n",
    "    \n",
    "    if pvalue < alpha:\n",
    "        print(\"Reject the Null Hypothesis\")\n",
    "    else:\n",
    "        print(\"Failed to reject the Null hypothesis\")\n",
    "    \n",
    "    return t_statistics, pvalue\n",
    "    "
   ]
  },
  {
   "cell_type": "code",
   "execution_count": 5,
   "id": "4d74667c",
   "metadata": {},
   "outputs": [
    {
     "name": "stdout",
     "output_type": "stream",
     "text": [
      "Failed to reject the Null hypothesis\n"
     ]
    },
    {
     "data": {
      "text/plain": [
       "(1.2355755869438456, 0.22262955518267172)"
      ]
     },
     "execution_count": 5,
     "metadata": {},
     "output_type": "execute_result"
    }
   ],
   "source": [
    "Hypothesis_Testing(x, y, 0.01)"
   ]
  },
  {
   "cell_type": "markdown",
   "id": "1e1ae0ae",
   "metadata": {},
   "source": [
    "Conclusion: We can say that we have the sufficient evidence to prove that there is a no significant difference between the two teaching methods."
   ]
  },
  {
   "cell_type": "markdown",
   "id": "6cd3fd45",
   "metadata": {},
   "source": [
    "#### Q13. A population has a mean of 60 and a standard deviation of 8. A sample of 50 observations has a mean of 65. Calculate the 90% confidence interval for the true population mean"
   ]
  },
  {
   "cell_type": "code",
   "execution_count": 23,
   "id": "1189e0c0",
   "metadata": {},
   "outputs": [],
   "source": [
    "def confidence_interval(n, alpha, std, sample_mean):\n",
    "    \n",
    "    dof = n-1\n",
    "    \n",
    "    cv = t.ppf(1-alpha/2, dof)\n",
    "    \n",
    "    margin_error = cv*(std/math.sqrt(n))\n",
    "    \n",
    "    Lower_bound = sample_mean - margin_error\n",
    "    \n",
    "    Upper_bound = sample_mean + margin_error\n",
    "    \n",
    "    return Lower_bound, Upper_bound"
   ]
  },
  {
   "cell_type": "code",
   "execution_count": 24,
   "id": "8171fc0d",
   "metadata": {},
   "outputs": [
    {
     "data": {
      "text/plain": [
       "(63.10319919251691, 66.89680080748309)"
      ]
     },
     "execution_count": 24,
     "metadata": {},
     "output_type": "execute_result"
    }
   ],
   "source": [
    "confidence_interval(50,0.10, 8, 65)"
   ]
  },
  {
   "cell_type": "markdown",
   "id": "a052bd0a",
   "metadata": {},
   "source": [
    "#### Q14. In a study of the effects of caffeine on reaction time, a sample of 30 participants had an average reaction time of 0.25 seconds with a standard deviation of 0.05 seconds. Conduct a hypothesis test to determine if the caffeine has a significant effect on reaction time at a 90% confidence level using a t-test"
   ]
  },
  {
   "cell_type": "markdown",
   "id": "68ba1875",
   "metadata": {},
   "source": [
    "Solution:\n",
    "\n",
    "    Hypothesis Testing:\n",
    "\n",
    "    H0 = There is no significant effects of caffeine on reaction time.\n",
    "\n",
    "    H1 = There is a significant effect of a caffeine on reaction time."
   ]
  },
  {
   "cell_type": "code",
   "execution_count": 27,
   "id": "7f2c3837",
   "metadata": {},
   "outputs": [],
   "source": [
    "def Ttest(sample_size, sample_mean, sample_std, alpha):\n",
    "    \n",
    "    # Calculating degree of freedom\n",
    "    \n",
    "    ddof = sample_size -1\n",
    "    \n",
    "    # Calculating tscore\n",
    "    t_score = (sample_mean - 0)/(sample_std/math.sqrt(sample_size))\n",
    "    \n",
    "    # Calculating pvalue\n",
    "    pvalue = 2*(1- (t.cdf(abs(t_score), ddof)))\n",
    "    \n",
    "    # Confidence Interval\n",
    "    \n",
    "    CI = t.interval(alpha, loc = sample_mean, scale = sample_std,df=ddof)\n",
    "    \n",
    "    if pvalue < alpha:\n",
    "        print('Reject the H0')\n",
    "    else:\n",
    "        print('Failed to reject H0')\n",
    "    \n",
    "    return t_score, pvalue, CI"
   ]
  },
  {
   "cell_type": "code",
   "execution_count": 28,
   "id": "a44fd0a1",
   "metadata": {},
   "outputs": [
    {
     "name": "stdout",
     "output_type": "stream",
     "text": [
      "Reject the H0\n"
     ]
    },
    {
     "data": {
      "text/plain": [
       "(27.386127875258307, 0.0, (0.24366166973398684, 0.25633833026601316))"
      ]
     },
     "execution_count": 28,
     "metadata": {},
     "output_type": "execute_result"
    }
   ],
   "source": [
    "Ttest(30, 0.25, 0.05, 0.10)"
   ]
  },
  {
   "cell_type": "markdown",
   "id": "671d8201",
   "metadata": {},
   "source": [
    "Conclusion:\n",
    "    \n",
    "    We have the evidence that there is a significant effect of a caffeine on reaction time. we reject the null hypothesis. "
   ]
  },
  {
   "cell_type": "code",
   "execution_count": null,
   "id": "cb9436fd",
   "metadata": {},
   "outputs": [],
   "source": []
  }
 ],
 "metadata": {
  "kernelspec": {
   "display_name": "Python 3 (ipykernel)",
   "language": "python",
   "name": "python3"
  },
  "language_info": {
   "codemirror_mode": {
    "name": "ipython",
    "version": 3
   },
   "file_extension": ".py",
   "mimetype": "text/x-python",
   "name": "python",
   "nbconvert_exporter": "python",
   "pygments_lexer": "ipython3",
   "version": "3.9.13"
  }
 },
 "nbformat": 4,
 "nbformat_minor": 5
}

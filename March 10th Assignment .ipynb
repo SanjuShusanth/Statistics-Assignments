{
 "cells": [
  {
   "cell_type": "code",
   "execution_count": 1,
   "id": "5ae89555",
   "metadata": {},
   "outputs": [],
   "source": [
    "import math \n",
    "import scipy.stats as st\n",
    "from scipy.stats import norm\n",
    "import pandas as pd\n",
    "import numpy as np\n",
    "from scipy.stats import t\n",
    "import matplotlib.pyplot as plt\n",
    "import seaborn as sns\n",
    "import warnings\n",
    "warnings.filterwarnings('ignore')"
   ]
  },
  {
   "cell_type": "markdown",
   "id": "5d603f67",
   "metadata": {},
   "source": [
    "#### Q1: What is Estimation Statistics? Explain point estimate and interval estimate"
   ]
  },
  {
   "cell_type": "raw",
   "id": "0aaa5010",
   "metadata": {},
   "source": [
    "Estimation Statistics is a process of making inferences about the population, based on the information obtained from the sample data.\n",
    "\n",
    "There are two types of Estimation Statistics they are:\n",
    "\n",
    "    * Point Estimate\n",
    "    * Interval Estimate\n",
    "    \n",
    "Point Estimate: single numerical value used to estimate unknown population parameter. Eg: Mean\n",
    "\n",
    "Interval Estimate: Range of Values used to estimate the unknown population parameter. Eg: Confidence Interval "
   ]
  },
  {
   "cell_type": "code",
   "execution_count": null,
   "id": "86e6332c",
   "metadata": {},
   "outputs": [],
   "source": []
  },
  {
   "cell_type": "markdown",
   "id": "8b02b3bf",
   "metadata": {},
   "source": [
    "#### Q2. Write a Python function to estimate the population mean using a sample mean and standard deviation."
   ]
  },
  {
   "cell_type": "code",
   "execution_count": 2,
   "id": "77d292b1",
   "metadata": {},
   "outputs": [],
   "source": [
    "def Population_mean(n, sm, sd):\n",
    "    \n",
    "    if n>=30:\n",
    "        \n",
    "        # Assuming the Confidence interval of 95%\n",
    "    \n",
    "        Zα = 1.96\n",
    "    \n",
    "        standard_error = round(Zα* (sd / math.sqrt(n)),2)\n",
    "    \n",
    "        Lower_Confidence_interval = round(sm- standard_error,2)\n",
    "    \n",
    "        Upper_Confidence_interval = round(sm+standard_error,2)\n",
    "        \n",
    "        return f\"I'm 95% Confident that Population mean is between {Lower_Confidence_interval} and {Upper_Confidence_interval}\"\n",
    "    \n",
    "    else:\n",
    "            return 'Sample size should be greater than or equal to 30'\n",
    "    \n",
    "    \n",
    "    "
   ]
  },
  {
   "cell_type": "code",
   "execution_count": 3,
   "id": "bb20ec4e",
   "metadata": {},
   "outputs": [
    {
     "data": {
      "text/plain": [
       "\"I'm 95% Confident that Population mean is between 16.79 and 19.21\""
      ]
     },
     "execution_count": 3,
     "metadata": {},
     "output_type": "execute_result"
    }
   ],
   "source": [
    "Population_mean(32,18 , 3.5)"
   ]
  },
  {
   "cell_type": "code",
   "execution_count": null,
   "id": "adfaba04",
   "metadata": {},
   "outputs": [],
   "source": []
  },
  {
   "cell_type": "markdown",
   "id": "4d7ac5e8",
   "metadata": {},
   "source": [
    "#### Q3: What is Hypothesis testing? Why is it used? State the importance of Hypothesis testing."
   ]
  },
  {
   "cell_type": "raw",
   "id": "0f6fcc8e",
   "metadata": {},
   "source": [
    "* Hypothesis testing is a statistical method used to determine whether the sufficient evidence to support the claim on population.\n",
    "\n",
    " Why it is  Uses:\n",
    "    \n",
    "    1. It helps us to make the informed decisions, by use of hypothesis testing we can reduce the risk of errors.\n",
    "    2. To draw the conclusion of the unknown population parameters from the sample data, Hypothesis testing is used.\n",
    "\n",
    " Importance of Hypothesis Testing:\n",
    "\n",
    "1. Make informed Decisions \n",
    "2. It help us to understand the data better.\n",
    "3. It helps us to avoid making mistakes."
   ]
  },
  {
   "cell_type": "code",
   "execution_count": null,
   "id": "aa0fd96d",
   "metadata": {},
   "outputs": [],
   "source": []
  },
  {
   "cell_type": "markdown",
   "id": "3d9e1b04",
   "metadata": {},
   "source": [
    "#### Q4. Create a hypothesis that states whether the average weight of male college students is greater than the average weight of female college students."
   ]
  },
  {
   "cell_type": "raw",
   "id": "e348c33f",
   "metadata": {},
   "source": [
    "Hypothesis Testing\n",
    "\n",
    "Null Hypothesis (H0): The average weight of male college students is greater than the average weight of female college students.\n",
    "    \n",
    "Alternate Hypothesis(H1): The average weight of male college students is Not greater than the average weight of female college students.\n",
    "    \n",
    "Statistical Experiments: Here we need to get the sample data of both the gender for their average weight inorder to calculate the statistical analysis like Z test, T test etc which helps us to identify whether we need to accept the null hypothesis or Reject the null hypothesis.\n",
    "\n",
    "Conclusion: If the study states that the average weigth of the male college students are significantly greater than the average weight of the female college students, we say that \"Accept the Null Hypothesis\" or we say \"Failed to reject the Null Hypothesis\". \n",
    "    "
   ]
  },
  {
   "cell_type": "code",
   "execution_count": null,
   "id": "6f209c99",
   "metadata": {},
   "outputs": [],
   "source": []
  },
  {
   "cell_type": "markdown",
   "id": "6e4de611",
   "metadata": {},
   "source": [
    "#### Q5. Write a Python script to conduct a hypothesis test on the difference between two population means, given a sample from each population."
   ]
  },
  {
   "cell_type": "markdown",
   "id": "714f2902",
   "metadata": {},
   "source": [
    "This script conducts a hypothesis test on the difference between two population means.\n",
    "\n",
    "The null hypothesis is that the population means are equal.\n",
    "\n",
    "The alternative hypothesis is that the population means are not equal."
   ]
  },
  {
   "cell_type": "markdown",
   "id": "6b11adae",
   "metadata": {},
   "source": [
    "Hypothesis Testing:\n",
    "    \n",
    "Null Hypothesis (H0): The Population mean is equal\n",
    "    \n",
    " Alternate Hypothesis (H1): The Population mean is Not Equal."
   ]
  },
  {
   "cell_type": "code",
   "execution_count": 5,
   "id": "9a990076",
   "metadata": {},
   "outputs": [],
   "source": [
    "sample_a = np.random.randint(10,20,15)\n",
    "sample_b = np.random.randint(10,20,15)"
   ]
  },
  {
   "cell_type": "code",
   "execution_count": 10,
   "id": "2daca79f",
   "metadata": {
    "scrolled": true
   },
   "outputs": [
    {
     "data": {
      "text/plain": [
       "14.533333333333333"
      ]
     },
     "execution_count": 10,
     "metadata": {},
     "output_type": "execute_result"
    }
   ],
   "source": [
    "np.mean(sample_a)"
   ]
  },
  {
   "cell_type": "code",
   "execution_count": 11,
   "id": "f119322c",
   "metadata": {},
   "outputs": [
    {
     "data": {
      "text/plain": [
       "14.066666666666666"
      ]
     },
     "execution_count": 11,
     "metadata": {},
     "output_type": "execute_result"
    }
   ],
   "source": [
    "np.mean(sample_b)"
   ]
  },
  {
   "cell_type": "code",
   "execution_count": 6,
   "id": "33518f48",
   "metadata": {},
   "outputs": [],
   "source": [
    "def Two_sampleT_test(sample_a, sample_b, alpha):\n",
    "    \n",
    "    t_statistics, pvalue = st.ttest_ind(sample_a, sample_b)\n",
    "    \n",
    "    if pvalue < alpha:\n",
    "        print('Reject the Null Hypothesis')\n",
    "    else:\n",
    "        print('Failed to reject the Null Hypothesis')\n",
    "    \n",
    "    return t_statistics, pvalue"
   ]
  },
  {
   "cell_type": "code",
   "execution_count": 7,
   "id": "9b596e8a",
   "metadata": {},
   "outputs": [
    {
     "name": "stdout",
     "output_type": "stream",
     "text": [
      "Failed to reject the Null Hypothesis\n"
     ]
    },
    {
     "data": {
      "text/plain": [
       "(0.4573252031797665, 0.6509660651078564)"
      ]
     },
     "execution_count": 7,
     "metadata": {},
     "output_type": "execute_result"
    }
   ],
   "source": [
    "Two_sampleT_test(sample_a, sample_b, alpha=0.05)"
   ]
  },
  {
   "cell_type": "code",
   "execution_count": null,
   "id": "4d104a79",
   "metadata": {},
   "outputs": [],
   "source": []
  },
  {
   "cell_type": "markdown",
   "id": "641e9575",
   "metadata": {},
   "source": [
    "#### Q6: What is a null and alternative hypothesis? Give some examples."
   ]
  },
  {
   "cell_type": "markdown",
   "id": "47187810",
   "metadata": {},
   "source": [
    "* Null Hypothesis is the claim about the population parameter. It is always determined that there is no difference or no relation.\n",
    "\n",
    "* Alternate Hypothesis is the opposite to the Null Hypothesis. It represents the claim that we need to invetigate or support.\n",
    "\n",
    "Example:\n",
    "   \n",
    "Null Hypothesis:\n",
    "    H0 - The mean height of the male is equal to 165cm\n",
    "    H0 - There is no difference in the test score between the two groups\n",
    "    \n",
    "Alternate Hypothesis:    \n",
    "    H1- The mean height of the male is not equal to 165 cm \n",
    "    H1 - There is a siginificant difference in the test score between the two groups."
   ]
  },
  {
   "cell_type": "code",
   "execution_count": null,
   "id": "d5c1ec4f",
   "metadata": {},
   "outputs": [],
   "source": []
  },
  {
   "cell_type": "markdown",
   "id": "250ca461",
   "metadata": {},
   "source": [
    "#### Q7: Write down the steps involved in hypothesis testing."
   ]
  },
  {
   "cell_type": "markdown",
   "id": "210a202b",
   "metadata": {},
   "source": [
    "Hypothesis Testing Procedure:\n",
    "\n",
    "* Initially while performing the Hypothesis testing for any problem statement, it is necessary to understand the data.\n",
    "\n",
    "* If the problem statement has provided the population standard deviation and if the sample size is greater than 30 then we can compute Z test, else Ttest.\n",
    "\n",
    "1. Defining Null Hypothesis - The initial claim about the unknown population parameter.\n",
    "\n",
    "2. Alternate Hypothesis - It is direct opposite to the Null Hypothesis, the claim we need to investigate.\n",
    "\n",
    "3. Experiments - Here we collect the evidence to support the alternate Hypothesis by using statistical tests.\n",
    "\n",
    "4. Conclusion - If the evidence is in a favorable of altenative hypothesis we reject the null hypothesis and we say there is a significant difference for unknown population parameter and vice versa. "
   ]
  },
  {
   "cell_type": "code",
   "execution_count": null,
   "id": "6d98a66f",
   "metadata": {},
   "outputs": [],
   "source": []
  },
  {
   "cell_type": "markdown",
   "id": "5d2a452e",
   "metadata": {},
   "source": [
    "#### Q8. Define p-value and explain its significance in hypothesis testing."
   ]
  },
  {
   "cell_type": "markdown",
   "id": "4747d04d",
   "metadata": {},
   "source": [
    "Pvalue is a number that is being calculated from the statistical test which helps us to determine whether we need to reject the null hypothesis or  accept the null hypothesis.\n",
    "\n",
    "if pvalue is less than than significance value we can come to conclusion saying that there is significant difference in unknown population parameter.\n",
    "\n",
    "We have the evidence to reject the null hypothesis in the favour of alternative hypothesis.\n",
    "\n",
    "if pvalue is greater than the significance value we can come to the conclusion saying that there is no significant difference in the unknown population parameter.\n",
    "\n",
    "We don't have the sufficient evidence to reject the null hypothesis."
   ]
  },
  {
   "cell_type": "code",
   "execution_count": null,
   "id": "2e6ee0f8",
   "metadata": {},
   "outputs": [],
   "source": []
  },
  {
   "cell_type": "markdown",
   "id": "309c5447",
   "metadata": {},
   "source": [
    "#### Q9. Generate a Student's t-distribution plot using Python's matplotlib library, with the degrees of freedom parameter set to 10."
   ]
  },
  {
   "cell_type": "code",
   "execution_count": 40,
   "id": "e4ed6533",
   "metadata": {},
   "outputs": [
    {
     "data": {
      "image/png": "[encoded data removed]",
      "text/plain": [
       "<Figure size 640x480 with 1 Axes>"
      ]
     },
     "metadata": {},
     "output_type": "display_data"
    }
   ],
   "source": [
    "dof =10\n",
    "\n",
    "x = np.arange(-4, 4, 0.1)\n",
    "\n",
    "y = t.pdf(x, 10)\n",
    "\n",
    "plt.plot(x, y,  '-r', label='T Distibution dof = 10')\n",
    "\n",
    "plt.xlabel('X')\n",
    "\n",
    "plt.ylabel('Probability of density function')\n",
    "\n",
    "plt.title(\"Student's T Distribution\")\n",
    "\n",
    "plt.legend()\n",
    "\n",
    "plt.grid(True)"
   ]
  },
  {
   "cell_type": "code",
   "execution_count": null,
   "id": "5a22c9fb",
   "metadata": {},
   "outputs": [],
   "source": []
  },
  {
   "cell_type": "markdown",
   "id": "e3e0dee5",
   "metadata": {},
   "source": [
    "#### Q10. Write a Python program to calculate the two-sample t-test for independent samples, given two random samples of equal size and a null hypothesis that the population means are equal."
   ]
  },
  {
   "cell_type": "markdown",
   "id": "2e24dcb7",
   "metadata": {},
   "source": [
    "    Hypothesis Testing:\n",
    "    \n",
    "    Null Hypothesis (H0) : The population means are equal\n",
    "    \n",
    "    Alternate Hypothesis (H1) : The Population means are not equal.\n",
    "    \n",
    "    Our objective is to prove that our Null hypothesis is true, for that need evidence to support the claim thus statistical test are done"
   ]
  },
  {
   "cell_type": "code",
   "execution_count": 11,
   "id": "6fa2cf63",
   "metadata": {},
   "outputs": [],
   "source": [
    "A= np.random.randint(75,90,20)\n",
    "B = np.random.randint(75,90,20)"
   ]
  },
  {
   "cell_type": "code",
   "execution_count": 12,
   "id": "2adb4dd2",
   "metadata": {},
   "outputs": [
    {
     "data": {
      "text/plain": [
       "81.45"
      ]
     },
     "execution_count": 12,
     "metadata": {},
     "output_type": "execute_result"
    }
   ],
   "source": [
    "np.mean(A)"
   ]
  },
  {
   "cell_type": "code",
   "execution_count": 13,
   "id": "63ccbd8d",
   "metadata": {},
   "outputs": [
    {
     "data": {
      "text/plain": [
       "82.0"
      ]
     },
     "execution_count": 13,
     "metadata": {},
     "output_type": "execute_result"
    }
   ],
   "source": [
    "np.mean(B)"
   ]
  },
  {
   "cell_type": "code",
   "execution_count": 14,
   "id": "17824893",
   "metadata": {},
   "outputs": [],
   "source": [
    "def Two_SampleTtest(A, B, alpha):\n",
    "    \n",
    "    # Computing T'test on independent variable\n",
    "    \n",
    "    t_statistics, pvalue = st.ttest_ind(A, B)\n",
    "    \n",
    "    # Hypothesis testing \n",
    "    \n",
    "    if pvalue < alpha:\n",
    "        print('Reject the Null hypothesis')\n",
    "    else:\n",
    "        print('Failed to reject the Null Hypothesis')\n",
    "        \n",
    "    # Visualizing the distributions\n",
    "    sns.distplot(A, hist=False, label='Sample A')\n",
    "    sns.distplot(B, hist=False, label='Sample B')\n",
    "    plt.xlabel('Value')\n",
    "    plt.ylabel('Density')\n",
    "    plt.title('Distribution of Samples A and B')\n",
    "    plt.legend(loc='upper right')\n",
    "    plt.show()\n",
    "    \n",
    "    return t_statistics, pvalue    "
   ]
  },
  {
   "cell_type": "code",
   "execution_count": 15,
   "id": "db74ab4e",
   "metadata": {},
   "outputs": [
    {
     "name": "stdout",
     "output_type": "stream",
     "text": [
      "Failed to reject the Null Hypothesis\n"
     ]
    },
    {
     "data": {
      "image/png": "[encoded data removed]",
      "text/plain": [
       "<Figure size 640x480 with 1 Axes>"
      ]
     },
     "metadata": {},
     "output_type": "display_data"
    },
    {
     "data": {
      "text/plain": [
       "(-0.35063906116780735, 0.7277955610745299)"
      ]
     },
     "execution_count": 15,
     "metadata": {},
     "output_type": "execute_result"
    }
   ],
   "source": [
    "Two_SampleTtest(A, B, 0.05)"
   ]
  },
  {
   "cell_type": "code",
   "execution_count": null,
   "id": "894c421a",
   "metadata": {},
   "outputs": [],
   "source": []
  },
  {
   "cell_type": "markdown",
   "id": "18c10fd5",
   "metadata": {},
   "source": [
    "#### Q11: What is Student’s t distribution? When to use the t-Distribution"
   ]
  },
  {
   "cell_type": "markdown",
   "id": "131c66f4",
   "metadata": {},
   "source": [
    "    * Student's T distribution is used in inferential statistics, when the population standard deviation is unknown and sample size is small we use Student's T Distribution.\n",
    "\n",
    "    * When the sample size is less than 30 then, T distribution is used instead of Normal Distribution.\n",
    "\n",
    "    * If the population standard deviation is unknown, t distribution is used for hypothesis testing and constructing a confidence intervals.\n",
    "\n",
    "    * It is used to compare the mean of two groups using independent sample t-test or paired sample t test."
   ]
  },
  {
   "cell_type": "code",
   "execution_count": null,
   "id": "f8dfaf23",
   "metadata": {},
   "outputs": [],
   "source": []
  },
  {
   "cell_type": "markdown",
   "id": "84e6cad8",
   "metadata": {},
   "source": [
    "#### Q12: What is t-statistic? State the formula for t-statistic."
   ]
  },
  {
   "cell_type": "markdown",
   "id": "f4671929",
   "metadata": {},
   "source": [
    "    T-statistic is a measure used in the hypothesis testing. It is that the population standard deviation is unknown T statistics is calculated by sample standard deviation.\n",
    "\n",
    "    Formula:\n",
    "\n",
    "    t_statistic = (sample mean - popmean)/(sample standard deviation)/sqrt(sample size)"
   ]
  },
  {
   "cell_type": "code",
   "execution_count": null,
   "id": "0d599817",
   "metadata": {},
   "outputs": [],
   "source": []
  },
  {
   "cell_type": "markdown",
   "id": "349d01ea",
   "metadata": {},
   "source": [
    "    Q13. A coffee shop owner wants to estimate the average daily revenue for their shop. They take a random sample of 50 days and find the sample mean revenue to be $ 500 with a standard deviation of $50. Estimate the population mean revenue with a 95% confidence interval."
   ]
  },
  {
   "cell_type": "code",
   "execution_count": 20,
   "id": "e95e7c8d",
   "metadata": {},
   "outputs": [],
   "source": [
    "def Confidence_Interval(sample_mean, sample_size, sample_std, alpha):\n",
    "    \n",
    "    # Constructing the Confidence Interval\n",
    "    \n",
    "    dof = sample_size -1\n",
    "    \n",
    "    CV = abs(t.ppf(1-alpha, dof))\n",
    "    \n",
    "    Lower_CI = sample_mean - (CV*(sample_std/math.sqrt(sample_size)))\n",
    "    \n",
    "    Upper_CI = sample_mean + (CV*(sample_std/math.sqrt(sample_size)))\n",
    "    \n",
    "    return Lower_CI, Upper_CI, dof, CV\n",
    "    "
   ]
  },
  {
   "cell_type": "code",
   "execution_count": 21,
   "id": "fdee2107",
   "metadata": {},
   "outputs": [
    {
     "data": {
      "text/plain": [
       "(488.1449949532307, 511.8550050467693, 49, 1.6765508919142629)"
      ]
     },
     "execution_count": 21,
     "metadata": {},
     "output_type": "execute_result"
    }
   ],
   "source": [
    "Confidence_Interval(500, 50, 50, 0.05)"
   ]
  },
  {
   "cell_type": "code",
   "execution_count": null,
   "id": "b2d113a8",
   "metadata": {},
   "outputs": [],
   "source": []
  },
  {
   "cell_type": "markdown",
   "id": "18bb6ced",
   "metadata": {},
   "source": [
    "    Q14. A researcher hypothesizes that a new drug will decrease blood pressure by 10 mmHg. They conduct a \n",
    "    clinical trial with 100 patients and find that the sample mean decrease in blood pressure is 8 mmHg with a \n",
    "    standard deviation of 3 mmHg. Test the hypothesis with a significance level of 0.05."
   ]
  },
  {
   "cell_type": "markdown",
   "id": "861ee7f5",
   "metadata": {},
   "source": [
    "    Hypothesis Testing:\n",
    "    \n",
    "    Null Hypothesis (H0) : A new drug will decrease blood pressure by µ = 10 mmHg\n",
    "        \n",
    "    Alternate Hypothesis (H1) : A new drug will decrease blood pressure by µ < 10 mmHg"
   ]
  },
  {
   "cell_type": "code",
   "execution_count": 21,
   "id": "5d8ae38f",
   "metadata": {},
   "outputs": [],
   "source": [
    "def Ttest(xi, n, pm, sstd, alpha):\n",
    "    \n",
    "    # Calculating t score\n",
    "    \n",
    "    tscore = (xi - pm)/(sstd/math.sqrt(n))\n",
    "    \n",
    "    # Calculating Dof and critical value\n",
    "    \n",
    "    dof = n -1\n",
    "    \n",
    "    CV = -abs(t.ppf(1-alpha, dof))\n",
    "    \n",
    "    # Calculating the t test \n",
    "    \n",
    "    if tscore < CV:\n",
    "        print('Reject the Null Hypothesis')\n",
    "    else:\n",
    "        print(\"Failed to reject the Null Hypothesis\")\n",
    "    \n",
    "    return tscore, CV"
   ]
  },
  {
   "cell_type": "code",
   "execution_count": 22,
   "id": "482f8f56",
   "metadata": {},
   "outputs": [
    {
     "name": "stdout",
     "output_type": "stream",
     "text": [
      "Reject the Null Hypothesis\n"
     ]
    },
    {
     "data": {
      "text/plain": [
       "(-6.666666666666667, -1.6603911559963895)"
      ]
     },
     "execution_count": 22,
     "metadata": {},
     "output_type": "execute_result"
    }
   ],
   "source": [
    "Ttest(8, 100, 10, 3, 0.05)"
   ]
  },
  {
   "cell_type": "markdown",
   "id": "d3729dad",
   "metadata": {},
   "source": [
    "    Conclusion:\n",
    "     Therefore, there is evidence to suggest that the new drug decreases blood pressure by less than 10 mmHg."
   ]
  },
  {
   "cell_type": "code",
   "execution_count": null,
   "id": "649ff96b",
   "metadata": {},
   "outputs": [],
   "source": []
  },
  {
   "cell_type": "markdown",
   "id": "7a9d49de",
   "metadata": {},
   "source": [
    "    Q15. An electronics company produces a certain type of product with a mean weight of 5 pounds and a \n",
    "    standard deviation of 0.5 pounds. A random sample of 25 products is taken, and the sample mean weight \n",
    "    is found to be 4.8 pounds. Test the hypothesis that the true mean weight of the products is less than 5 \n",
    "    pounds with a significance level of 0.01."
   ]
  },
  {
   "cell_type": "markdown",
   "id": "41d5219b",
   "metadata": {},
   "source": [
    "    Hypothesis Testing:\n",
    "\n",
    "    Null Hypothesis (H0) : The Mean weight of the product is   µ = 5 pounds\n",
    "    \n",
    "    Alternate Hypothesis (H1) : The Mean weight of the product is µ < 5 pounds"
   ]
  },
  {
   "cell_type": "code",
   "execution_count": 4,
   "id": "3b2736ef",
   "metadata": {},
   "outputs": [],
   "source": [
    "def ztest(sample_mean, pop_mean, std, sample_size, alpha):\n",
    "    \n",
    "    # Calculating the Zscore\n",
    "    \n",
    "    zscore = (sample_mean - pop_mean)/(std/math.sqrt(sample_size))\n",
    "    \n",
    "    # Calculating the Critical value\n",
    "    \n",
    "    cv = norm.ppf(1-alpha)\n",
    "    \n",
    "    # Calculating the pvalue\n",
    "    pvalue = 1-(norm.cdf(abs(zscore)))\n",
    "    \n",
    "    # Calculating the z test\n",
    "    \n",
    "    if pvalue < alpha:\n",
    "        print('Reject the Null Hypothesis')\n",
    "    else:\n",
    "        print('Failed to reject the Null Hypothesis')\n",
    "    \n",
    "    return zscore, pvalue"
   ]
  },
  {
   "cell_type": "code",
   "execution_count": 5,
   "id": "a1eb1c03",
   "metadata": {},
   "outputs": [
    {
     "name": "stdout",
     "output_type": "stream",
     "text": [
      "Failed to reject the Null Hypothesis\n"
     ]
    },
    {
     "data": {
      "text/plain": [
       "(-2.0000000000000018, 0.022750131948179098)"
      ]
     },
     "execution_count": 5,
     "metadata": {},
     "output_type": "execute_result"
    }
   ],
   "source": [
    "ztest(4.8, 5, 0.5, 25, 0.01)"
   ]
  },
  {
   "cell_type": "markdown",
   "id": "7cbf7d45",
   "metadata": {},
   "source": [
    "Conclusion: We have the statistical evidence that population mean is not less than 5 so we failed to reject the Null hypothesis."
   ]
  },
  {
   "cell_type": "code",
   "execution_count": null,
   "id": "0fcdc9c4",
   "metadata": {},
   "outputs": [],
   "source": []
  },
  {
   "cell_type": "markdown",
   "id": "f5252160",
   "metadata": {},
   "source": [
    "Q16. Two groups of students are given different study materials to prepare for a test. The first group \n",
    "(n1 = 30) has a mean score of 80 with a standard deviation of 10, and the second group (n2 = 40) has a mean \n",
    "score of 75 with a standard deviation of 8. Test the hypothesis that the population means for the two \n",
    "groups are equal with a significance level of 0.01."
   ]
  },
  {
   "cell_type": "markdown",
   "id": "8e7ebf1b",
   "metadata": {},
   "source": [
    "    Hypothesis Testing:\n",
    "    \n",
    "    Null Hypothesis (H0) : The Population means of two groups are equal\n",
    "        \n",
    "    Alternate Hypothesis (H1) : The Population means of two groups are not equal."
   ]
  },
  {
   "cell_type": "code",
   "execution_count": 22,
   "id": "637ced5a",
   "metadata": {},
   "outputs": [],
   "source": [
    "def Two_sample_ttest(n1, n2, n1_m, n2_m, n1_std, n2_std, alpha):\n",
    "    \n",
    "    dof = (n1+n2) -2\n",
    "    \n",
    "    pooled_std = np.sqrt(((n1 -1)* n1_std**2 + (n2 - 1)* n2_std**2)/(dof))\n",
    "    \n",
    "    t_statistics = (n1_m - n2_m)/(pooled_std*np.sqrt(1/n1+1/n2))\n",
    "    \n",
    "    p_value = (1 - st.t.cdf(abs(t_statistics), dof)) * 2\n",
    "    \n",
    "    if p_value < alpha:\n",
    "        print('Reject the  Null Hypothesis')\n",
    "    else:\n",
    "        print('Failed to reject the Null Hypothesis')\n",
    "    \n",
    "    return t_statistics, p_value"
   ]
  },
  {
   "cell_type": "code",
   "execution_count": 23,
   "id": "864bd9d6",
   "metadata": {},
   "outputs": [
    {
     "name": "stdout",
     "output_type": "stream",
     "text": [
      "Failed to reject the Null Hypothesis\n"
     ]
    },
    {
     "data": {
      "text/plain": [
       "(2.3239677296992913, 0.023123013413725912)"
      ]
     },
     "execution_count": 23,
     "metadata": {},
     "output_type": "execute_result"
    }
   ],
   "source": [
    "Two_sample_ttest(30,40,80,75,10,8,0.01)"
   ]
  },
  {
   "cell_type": "markdown",
   "id": "7b7ac665",
   "metadata": {},
   "source": [
    "    Conclusion: With the 99% Confidence interval the Population mean on two groups are equal so that we failed to reject the Null hypothesis."
   ]
  },
  {
   "cell_type": "code",
   "execution_count": null,
   "id": "376844b5",
   "metadata": {},
   "outputs": [],
   "source": []
  },
  {
   "cell_type": "markdown",
   "id": "0a653ab0",
   "metadata": {},
   "source": [
    "    Q17. A marketing company wants to estimate the average number of ads watched by viewers during a TV \n",
    "    program. They take a random sample of 50 viewers and find that the sample mean is 4 with a standard \n",
    "    deviation of 1.5. Estimate the population mean with a 99% confidence interval"
   ]
  },
  {
   "cell_type": "code",
   "execution_count": 57,
   "id": "20e3f776",
   "metadata": {},
   "outputs": [],
   "source": [
    "def Population_mean(sam_size, sam_mean, sam_std,alpha):\n",
    "    \n",
    "    dof = sam_size -1\n",
    "    \n",
    "    cv = t.ppf(1-alpha,dof)\n",
    "    \n",
    "    standard_error = cv*(sam_std/math.sqrt(sam_size))\n",
    "    \n",
    "    Lower_CI = sam_mean - standard_error\n",
    "    \n",
    "    Upper_CI = sam_mean + standard_error\n",
    "    \n",
    "    return f'I\"m 99% Confident that the population mean is between ({Lower_CI}, {Upper_CI})'"
   ]
  },
  {
   "cell_type": "code",
   "execution_count": 58,
   "id": "7de71e98",
   "metadata": {},
   "outputs": [
    {
     "data": {
      "text/plain": [
       "'I\"m 99% Confident that the population mean is between (3.4898454186174037, 4.510154581382596)'"
      ]
     },
     "execution_count": 58,
     "metadata": {},
     "output_type": "execute_result"
    }
   ],
   "source": [
    "Population_mean(50,4,1.5,0.01)"
   ]
  },
  {
   "cell_type": "code",
   "execution_count": null,
   "id": "c76ca9df",
   "metadata": {},
   "outputs": [],
   "source": []
  }
 ],
 "metadata": {
  "kernelspec": {
   "display_name": "Python 3 (ipykernel)",
   "language": "python",
   "name": "python3"
  },
  "language_info": {
   "codemirror_mode": {
    "name": "ipython",
    "version": 3
   },
   "file_extension": ".py",
   "mimetype": "text/x-python",
   "name": "python",
   "nbconvert_exporter": "python",
   "pygments_lexer": "ipython3",
   "version": "3.9.13"
  }
 },
 "nbformat": 4,
 "nbformat_minor": 5
}
